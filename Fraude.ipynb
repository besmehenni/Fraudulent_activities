{
  "nbformat": 4,
  "nbformat_minor": 0,
  "metadata": {
    "colab": {
      "name": "S4_Fraude_besv2.ipynb",
      "provenance": [],
      "collapsed_sections": []
    },
    "kernelspec": {
      "name": "python3",
      "display_name": "Python 3"
    }
  },
  "cells": [
    {
      "cell_type": "code",
      "metadata": {
        "id": "KbUXESuU3VRy",
        "colab_type": "code",
        "colab": {}
      },
      "source": [
        "import numpy as np \n",
        "import pandas as pd \n",
        "import matplotlib.pyplot as plt \n",
        "import seaborn as sns \n",
        "import warnings\n",
        "warnings.filterwarnings('ignore')"
      ],
      "execution_count": 0,
      "outputs": []
    },
    {
      "cell_type": "code",
      "metadata": {
        "id": "Jb797gCF3fRR",
        "colab_type": "code",
        "colab": {}
      },
      "source": [
        "#fraude = pd.read_csv(\"https://raw.githubusercontent.com/JedhaBootcamp/FULL_STACK_12_WEEK_PROGRAM/master/S0.4%20--%20R%C3%A9duction%20de%20Dimensions%20%26%20Boosting/Projet%20--%20FRAUDULENT%20ACTIVITIES/Datasets/Fraud_Data.csv?token=AOGGXRTMKPYKQBTNO2N4NP26H3XSA\")\n",
        "#ipaddress = pd.read_csv(\"https://raw.githubusercontent.com/JedhaBootcamp/FULL_STACK_12_WEEK_PROGRAM/master/S0.4%20--%20R%C3%A9duction%20de%20Dimensions%20%26%20Boosting/Projet%20--%20FRAUDULENT%20ACTIVITIES/Datasets/IpAddress_to_Country.csv?token=AOGGXRXVI4KDNKCXI6AZZI26HLO44\")"
      ],
      "execution_count": 0,
      "outputs": []
    },
    {
      "cell_type": "code",
      "metadata": {
        "id": "npKRgcwBQrxk",
        "colab_type": "code",
        "colab": {}
      },
      "source": [
        "fraude = pd.read_csv(\"/content/data_country.csv\")"
      ],
      "execution_count": 0,
      "outputs": []
    },
    {
      "cell_type": "code",
      "metadata": {
        "id": "hVinibFO3fM8",
        "colab_type": "code",
        "outputId": "858dfda2-12d3-446e-f6f0-75e117fbec8c",
        "colab": {
          "base_uri": "https://localhost:8080/",
          "height": 336
        }
      },
      "source": [
        "fraude.info()"
      ],
      "execution_count": 0,
      "outputs": [
        {
          "output_type": "stream",
          "text": [
            "<class 'pandas.core.frame.DataFrame'>\n",
            "RangeIndex: 151112 entries, 0 to 151111\n",
            "Data columns (total 13 columns):\n",
            "user_id           151112 non-null int64\n",
            "signup_time       151112 non-null object\n",
            "purchase_time     151112 non-null object\n",
            "purchase_value    151112 non-null int64\n",
            "device_id         151112 non-null object\n",
            "source            151112 non-null object\n",
            "browser           151112 non-null object\n",
            "sex               151112 non-null object\n",
            "age               151112 non-null int64\n",
            "ip_address        151112 non-null int64\n",
            "resultat          151112 non-null int64\n",
            "Date_Diff         151112 non-null int64\n",
            "pays              151112 non-null object\n",
            "dtypes: int64(6), object(7)\n",
            "memory usage: 15.0+ MB\n"
          ],
          "name": "stdout"
        }
      ]
    },
    {
      "cell_type": "code",
      "metadata": {
        "id": "nQNWr6nV7btp",
        "colab_type": "code",
        "outputId": "d4680f5f-a392-4b9e-f320-2d71d8ce0052",
        "colab": {
          "base_uri": "https://localhost:8080/",
          "height": 301
        }
      },
      "source": [
        "fraude.head()"
      ],
      "execution_count": 0,
      "outputs": [
        {
          "output_type": "execute_result",
          "data": {
            "text/html": [
              "<div>\n",
              "<style scoped>\n",
              "    .dataframe tbody tr th:only-of-type {\n",
              "        vertical-align: middle;\n",
              "    }\n",
              "\n",
              "    .dataframe tbody tr th {\n",
              "        vertical-align: top;\n",
              "    }\n",
              "\n",
              "    .dataframe thead th {\n",
              "        text-align: right;\n",
              "    }\n",
              "</style>\n",
              "<table border=\"1\" class=\"dataframe\">\n",
              "  <thead>\n",
              "    <tr style=\"text-align: right;\">\n",
              "      <th></th>\n",
              "      <th>user_id</th>\n",
              "      <th>signup_time</th>\n",
              "      <th>purchase_time</th>\n",
              "      <th>purchase_value</th>\n",
              "      <th>device_id</th>\n",
              "      <th>source</th>\n",
              "      <th>browser</th>\n",
              "      <th>sex</th>\n",
              "      <th>age</th>\n",
              "      <th>ip_address</th>\n",
              "      <th>resultat</th>\n",
              "      <th>Date_Diff</th>\n",
              "      <th>pays</th>\n",
              "    </tr>\n",
              "  </thead>\n",
              "  <tbody>\n",
              "    <tr>\n",
              "      <th>0</th>\n",
              "      <td>22058</td>\n",
              "      <td>2015-02-24 22:55:49</td>\n",
              "      <td>2015-04-18 02:47:11</td>\n",
              "      <td>34</td>\n",
              "      <td>QVPSPJUOCKZAR</td>\n",
              "      <td>SEO</td>\n",
              "      <td>Chrome</td>\n",
              "      <td>M</td>\n",
              "      <td>39</td>\n",
              "      <td>732758368</td>\n",
              "      <td>0</td>\n",
              "      <td>4506682</td>\n",
              "      <td>Japan</td>\n",
              "    </tr>\n",
              "    <tr>\n",
              "      <th>1</th>\n",
              "      <td>333320</td>\n",
              "      <td>2015-06-07 20:39:50</td>\n",
              "      <td>2015-06-08 01:38:54</td>\n",
              "      <td>16</td>\n",
              "      <td>EOGFQPIZPYXFZ</td>\n",
              "      <td>Ads</td>\n",
              "      <td>Chrome</td>\n",
              "      <td>F</td>\n",
              "      <td>53</td>\n",
              "      <td>350311387</td>\n",
              "      <td>0</td>\n",
              "      <td>17944</td>\n",
              "      <td>United States</td>\n",
              "    </tr>\n",
              "    <tr>\n",
              "      <th>2</th>\n",
              "      <td>1359</td>\n",
              "      <td>2015-01-01 18:52:44</td>\n",
              "      <td>2015-01-01 18:52:45</td>\n",
              "      <td>15</td>\n",
              "      <td>YSSKYOSJHPPLJ</td>\n",
              "      <td>SEO</td>\n",
              "      <td>Opera</td>\n",
              "      <td>M</td>\n",
              "      <td>53</td>\n",
              "      <td>2621473820</td>\n",
              "      <td>1</td>\n",
              "      <td>1</td>\n",
              "      <td>United States</td>\n",
              "    </tr>\n",
              "    <tr>\n",
              "      <th>3</th>\n",
              "      <td>150084</td>\n",
              "      <td>2015-04-28 21:13:25</td>\n",
              "      <td>2015-05-04 13:54:50</td>\n",
              "      <td>44</td>\n",
              "      <td>ATGTXKYKUDUQN</td>\n",
              "      <td>SEO</td>\n",
              "      <td>Safari</td>\n",
              "      <td>M</td>\n",
              "      <td>41</td>\n",
              "      <td>3840542443</td>\n",
              "      <td>0</td>\n",
              "      <td>492085</td>\n",
              "      <td>Pays inconnu</td>\n",
              "    </tr>\n",
              "    <tr>\n",
              "      <th>4</th>\n",
              "      <td>221365</td>\n",
              "      <td>2015-07-21 07:09:52</td>\n",
              "      <td>2015-09-09 18:40:53</td>\n",
              "      <td>39</td>\n",
              "      <td>NAUITBZFJKHWW</td>\n",
              "      <td>Ads</td>\n",
              "      <td>Safari</td>\n",
              "      <td>M</td>\n",
              "      <td>45</td>\n",
              "      <td>415583117</td>\n",
              "      <td>0</td>\n",
              "      <td>4361461</td>\n",
              "      <td>United States</td>\n",
              "    </tr>\n",
              "  </tbody>\n",
              "</table>\n",
              "</div>"
            ],
            "text/plain": [
              "   user_id          signup_time  ... Date_Diff           pays\n",
              "0    22058  2015-02-24 22:55:49  ...   4506682          Japan\n",
              "1   333320  2015-06-07 20:39:50  ...     17944  United States\n",
              "2     1359  2015-01-01 18:52:44  ...         1  United States\n",
              "3   150084  2015-04-28 21:13:25  ...    492085   Pays inconnu\n",
              "4   221365  2015-07-21 07:09:52  ...   4361461  United States\n",
              "\n",
              "[5 rows x 13 columns]"
            ]
          },
          "metadata": {
            "tags": []
          },
          "execution_count": 118
        }
      ]
    },
    {
      "cell_type": "code",
      "metadata": {
        "id": "apavbTsOphg7",
        "colab_type": "code",
        "colab": {}
      },
      "source": [
        "fraude=fraude.rename(columns = {'class':'resultat'})"
      ],
      "execution_count": 0,
      "outputs": []
    },
    {
      "cell_type": "code",
      "metadata": {
        "id": "Sp3BBTS68V1F",
        "colab_type": "code",
        "outputId": "903d1fdb-4d03-4e9e-ee65-98940c5a0e8a",
        "colab": {
          "base_uri": "https://localhost:8080/",
          "height": 265
        }
      },
      "source": [
        "fraude.isnull().any()"
      ],
      "execution_count": 0,
      "outputs": [
        {
          "output_type": "execute_result",
          "data": {
            "text/plain": [
              "user_id           False\n",
              "signup_time       False\n",
              "purchase_time     False\n",
              "purchase_value    False\n",
              "device_id         False\n",
              "source            False\n",
              "browser           False\n",
              "sex               False\n",
              "age               False\n",
              "ip_address        False\n",
              "resultat          False\n",
              "Date_Diff         False\n",
              "pays              False\n",
              "dtype: bool"
            ]
          },
          "metadata": {
            "tags": []
          },
          "execution_count": 120
        }
      ]
    },
    {
      "cell_type": "code",
      "metadata": {
        "id": "h72FWf_-8Vty",
        "colab_type": "code",
        "outputId": "efd4cd27-ef7b-40fc-def0-b22a52bc1a16",
        "colab": {
          "base_uri": "https://localhost:8080/",
          "height": 34
        }
      },
      "source": [
        "fraude[\"purchase_value\"].max()"
      ],
      "execution_count": 0,
      "outputs": [
        {
          "output_type": "execute_result",
          "data": {
            "text/plain": [
              "154"
            ]
          },
          "metadata": {
            "tags": []
          },
          "execution_count": 121
        }
      ]
    },
    {
      "cell_type": "code",
      "metadata": {
        "id": "SCUX-Mbf7eMW",
        "colab_type": "code",
        "colab": {}
      },
      "source": [
        "ipaddress.head(10)"
      ],
      "execution_count": 0,
      "outputs": []
    },
    {
      "cell_type": "code",
      "metadata": {
        "id": "IqEyXmAr8lrk",
        "colab_type": "code",
        "outputId": "21bcc3b0-0ed1-422c-9e80-67af21c5f3e6",
        "colab": {
          "base_uri": "https://localhost:8080/",
          "height": 87
        }
      },
      "source": [
        "ipaddress.isnull().any()"
      ],
      "execution_count": 0,
      "outputs": [
        {
          "output_type": "execute_result",
          "data": {
            "text/plain": [
              "lower_bound_ip_address    False\n",
              "upper_bound_ip_address    False\n",
              "country                   False\n",
              "dtype: bool"
            ]
          },
          "metadata": {
            "tags": []
          },
          "execution_count": 205
        }
      ]
    },
    {
      "cell_type": "code",
      "metadata": {
        "id": "vTDVjcfR8wtM",
        "colab_type": "code",
        "colab": {}
      },
      "source": [
        "#conversion des données en int et colonne class renommée en resultat\n",
        "\n",
        "fraude['ip_address'] = fraude['ip_address'].astype(int)\n",
        "ipaddress['lower_bound_ip_address'] = abs(ipaddress['lower_bound_ip_address'].astype(int))\n",
        "ipaddress['upper_bound_ip_address'] = abs(ipaddress['upper_bound_ip_address'].astype(int))\n",
        "fraude=fraude.rename(columns = {'class':'resultat'})"
      ],
      "execution_count": 0,
      "outputs": []
    },
    {
      "cell_type": "code",
      "metadata": {
        "id": "LLcC1xaSsB6w",
        "colab_type": "code",
        "colab": {}
      },
      "source": [
        "ipaddress=ipaddress.sort_values(['lower_bound_ip_address'], ascending=True)"
      ],
      "execution_count": 0,
      "outputs": []
    },
    {
      "cell_type": "code",
      "metadata": {
        "id": "Op-k3Tkt6mhJ",
        "colab_type": "code",
        "colab": {}
      },
      "source": [
        "fraude.purchase_time= pd.to_datetime(fraude.purchase_time)\n",
        "fraude.signup_time= pd.to_datetime(fraude.signup_time)"
      ],
      "execution_count": 0,
      "outputs": []
    },
    {
      "cell_type": "code",
      "metadata": {
        "id": "aR9Wv7jV6vpk",
        "colab_type": "code",
        "colab": {}
      },
      "source": [
        "Test_d=fraude['purchase_time']-fraude['signup_time']"
      ],
      "execution_count": 0,
      "outputs": []
    },
    {
      "cell_type": "code",
      "metadata": {
        "id": "w0Ox_3yP6vmR",
        "colab_type": "code",
        "colab": {}
      },
      "source": [
        "fraude['Date_Diff']=(Test_d/np.timedelta64(1,'s')).astype(int) #pd.Series(delta.seconds for delta in (Test_d))\n",
        "\n",
        "#ou fraude['Date_Diff'] = pd.to_numeric(X.purchase - X.signup)/(1000000000)"
      ],
      "execution_count": 0,
      "outputs": []
    },
    {
      "cell_type": "code",
      "metadata": {
        "id": "AmuHtD0G7G3s",
        "colab_type": "code",
        "outputId": "9e1901d3-3963-4708-a570-24185460b011",
        "colab": {
          "base_uri": "https://localhost:8080/",
          "height": 301
        }
      },
      "source": [
        "fraude.head()"
      ],
      "execution_count": 0,
      "outputs": [
        {
          "output_type": "execute_result",
          "data": {
            "text/html": [
              "<div>\n",
              "<style scoped>\n",
              "    .dataframe tbody tr th:only-of-type {\n",
              "        vertical-align: middle;\n",
              "    }\n",
              "\n",
              "    .dataframe tbody tr th {\n",
              "        vertical-align: top;\n",
              "    }\n",
              "\n",
              "    .dataframe thead th {\n",
              "        text-align: right;\n",
              "    }\n",
              "</style>\n",
              "<table border=\"1\" class=\"dataframe\">\n",
              "  <thead>\n",
              "    <tr style=\"text-align: right;\">\n",
              "      <th></th>\n",
              "      <th>user_id</th>\n",
              "      <th>signup_time</th>\n",
              "      <th>purchase_time</th>\n",
              "      <th>purchase_value</th>\n",
              "      <th>device_id</th>\n",
              "      <th>source</th>\n",
              "      <th>browser</th>\n",
              "      <th>sex</th>\n",
              "      <th>age</th>\n",
              "      <th>ip_address</th>\n",
              "      <th>resultat</th>\n",
              "      <th>Date_Diff</th>\n",
              "    </tr>\n",
              "  </thead>\n",
              "  <tbody>\n",
              "    <tr>\n",
              "      <th>0</th>\n",
              "      <td>22058</td>\n",
              "      <td>2015-02-24 22:55:49</td>\n",
              "      <td>2015-04-18 02:47:11</td>\n",
              "      <td>34</td>\n",
              "      <td>QVPSPJUOCKZAR</td>\n",
              "      <td>SEO</td>\n",
              "      <td>Chrome</td>\n",
              "      <td>M</td>\n",
              "      <td>39</td>\n",
              "      <td>732758368</td>\n",
              "      <td>0</td>\n",
              "      <td>4506682</td>\n",
              "    </tr>\n",
              "    <tr>\n",
              "      <th>1</th>\n",
              "      <td>333320</td>\n",
              "      <td>2015-06-07 20:39:50</td>\n",
              "      <td>2015-06-08 01:38:54</td>\n",
              "      <td>16</td>\n",
              "      <td>EOGFQPIZPYXFZ</td>\n",
              "      <td>Ads</td>\n",
              "      <td>Chrome</td>\n",
              "      <td>F</td>\n",
              "      <td>53</td>\n",
              "      <td>350311387</td>\n",
              "      <td>0</td>\n",
              "      <td>17944</td>\n",
              "    </tr>\n",
              "    <tr>\n",
              "      <th>2</th>\n",
              "      <td>1359</td>\n",
              "      <td>2015-01-01 18:52:44</td>\n",
              "      <td>2015-01-01 18:52:45</td>\n",
              "      <td>15</td>\n",
              "      <td>YSSKYOSJHPPLJ</td>\n",
              "      <td>SEO</td>\n",
              "      <td>Opera</td>\n",
              "      <td>M</td>\n",
              "      <td>53</td>\n",
              "      <td>2621473820</td>\n",
              "      <td>1</td>\n",
              "      <td>1</td>\n",
              "    </tr>\n",
              "    <tr>\n",
              "      <th>3</th>\n",
              "      <td>150084</td>\n",
              "      <td>2015-04-28 21:13:25</td>\n",
              "      <td>2015-05-04 13:54:50</td>\n",
              "      <td>44</td>\n",
              "      <td>ATGTXKYKUDUQN</td>\n",
              "      <td>SEO</td>\n",
              "      <td>Safari</td>\n",
              "      <td>M</td>\n",
              "      <td>41</td>\n",
              "      <td>3840542443</td>\n",
              "      <td>0</td>\n",
              "      <td>492085</td>\n",
              "    </tr>\n",
              "    <tr>\n",
              "      <th>4</th>\n",
              "      <td>221365</td>\n",
              "      <td>2015-07-21 07:09:52</td>\n",
              "      <td>2015-09-09 18:40:53</td>\n",
              "      <td>39</td>\n",
              "      <td>NAUITBZFJKHWW</td>\n",
              "      <td>Ads</td>\n",
              "      <td>Safari</td>\n",
              "      <td>M</td>\n",
              "      <td>45</td>\n",
              "      <td>415583117</td>\n",
              "      <td>0</td>\n",
              "      <td>4361461</td>\n",
              "    </tr>\n",
              "  </tbody>\n",
              "</table>\n",
              "</div>"
            ],
            "text/plain": [
              "   user_id         signup_time  ... resultat  Date_Diff\n",
              "0    22058 2015-02-24 22:55:49  ...        0    4506682\n",
              "1   333320 2015-06-07 20:39:50  ...        0      17944\n",
              "2     1359 2015-01-01 18:52:44  ...        1          1\n",
              "3   150084 2015-04-28 21:13:25  ...        0     492085\n",
              "4   221365 2015-07-21 07:09:52  ...        0    4361461\n",
              "\n",
              "[5 rows x 12 columns]"
            ]
          },
          "metadata": {
            "tags": []
          },
          "execution_count": 13
        }
      ]
    },
    {
      "cell_type": "code",
      "metadata": {
        "id": "u776lO5VwRTM",
        "colab_type": "code",
        "colab": {}
      },
      "source": [
        "# Fonction pour amener le nom des pays du dataset secondaire vers le dataset principal\n",
        "def transform_ip(arg) :\n",
        "    try :\n",
        "        return ipaddress.country[(ipaddress.lower_bound_ip_address < arg) & (ipaddress.upper_bound_ip_address > arg)].iloc[0]\n",
        "    except IndexError :\n",
        "        return \"Pays inconnu\"\n",
        "fraude[\"pays\"] = fraude.ip_address.apply(transform_ip)"
      ],
      "execution_count": 0,
      "outputs": []
    },
    {
      "cell_type": "code",
      "metadata": {
        "id": "oSfLy-PT0eGJ",
        "colab_type": "code",
        "colab": {}
      },
      "source": [
        "#fraude.to_csv (r'C:\\Users\\Admin\\Desktop\\data\\data_country.csv', index = None, header=True) #creation fichier IP countries\n",
        "#ou lecture fichier \n",
        "fraude = pd.read_csv(\"/content/data_country.csv\")"
      ],
      "execution_count": 0,
      "outputs": []
    },
    {
      "cell_type": "code",
      "metadata": {
        "id": "J6U-TcOngOFf",
        "colab_type": "code",
        "colab": {}
      },
      "source": [
        "fraude=fraude.sort_values(['ip_address'], ascending=True)"
      ],
      "execution_count": 0,
      "outputs": []
    },
    {
      "cell_type": "markdown",
      "metadata": {
        "id": "VLUFt4K0XKrw",
        "colab_type": "text"
      },
      "source": [
        "# DATA VISUALISATION"
      ]
    },
    {
      "cell_type": "code",
      "metadata": {
        "id": "BCMyJ6X-nE6D",
        "colab_type": "code",
        "colab": {}
      },
      "source": [
        "#distribution de l'ensemble purchase_value sachant fraude et non fraude\n",
        "data_purchase_value=fraude.purchase_value.value_counts()"
      ],
      "execution_count": 0,
      "outputs": []
    },
    {
      "cell_type": "markdown",
      "metadata": {
        "id": "BsGXDaraYoIs",
        "colab_type": "text"
      },
      "source": [
        "Les purchase_value de chaque opération peuvent varier de 0 à 3400. Bcp d'achats autour de 3100 et en dessous de 100."
      ]
    },
    {
      "cell_type": "code",
      "metadata": {
        "id": "1NhV9disi-gX",
        "colab_type": "code",
        "outputId": "041a5ceb-4ec2-425f-8db8-6c6038fff6b6",
        "colab": {
          "base_uri": "https://localhost:8080/",
          "height": 328
        }
      },
      "source": [
        "fig, ax0=plt.subplots(figsize=(12,4))\n",
        "ax0=sns.distplot(data_purchase_value, bins=50, ax=ax0)\n",
        "plt.xlim(0,3400)\n",
        "ax0.set(title=\"Distribution de l'ensemble des purchase_value (sachant fraude et non fraude)\", xlabel=\"purchase_value\")"
      ],
      "execution_count": 0,
      "outputs": [
        {
          "output_type": "execute_result",
          "data": {
            "text/plain": [
              "[Text(0.5, 0, 'purchase_value'),\n",
              " Text(0.5, 1.0, \"Distribution de l'ensemble des purchase_value (sachant fraude et non fraude)\")]"
            ]
          },
          "metadata": {
            "tags": []
          },
          "execution_count": 6
        },
        {
          "output_type": "display_data",
          "data": {
            "image/png": "[encoded data removed]",
            "text/plain": [
              "<Figure size 864x288 with 1 Axes>"
            ]
          },
          "metadata": {
            "tags": []
          }
        }
      ]
    },
    {
      "cell_type": "code",
      "metadata": {
        "id": "MprXiUewTz2b",
        "colab_type": "code",
        "colab": {}
      },
      "source": [
        "#isolement des resultats positifs (fraudes) dans un dataset\n",
        "dataset=fraude #dataset représente le jeu de données global (resultat =0 ou 1)\n",
        "fraude=fraude[fraude.resultat==1]"
      ],
      "execution_count": 0,
      "outputs": []
    },
    {
      "cell_type": "markdown",
      "metadata": {
        "id": "cG3AbC4eZYj0",
        "colab_type": "text"
      },
      "source": [
        "ce plot montre que la médiane de la purchase_value des opérations frauduleuses est en-dessous de 40. Peu de purchase_value au-dessus de 90. Donc peu d'opérations frauduleuses à gros montants."
      ]
    },
    {
      "cell_type": "code",
      "metadata": {
        "id": "kyzbX89ZNYbw",
        "colab_type": "code",
        "outputId": "58744429-a20d-40c5-c6a7-36bc47b4b57d",
        "colab": {
          "base_uri": "https://localhost:8080/",
          "height": 281
        }
      },
      "source": [
        "sns.boxplot(['purchase_value'], data=fraude)"
      ],
      "execution_count": 0,
      "outputs": [
        {
          "output_type": "execute_result",
          "data": {
            "text/plain": [
              "<matplotlib.axes._subplots.AxesSubplot at 0x7f3f22e97470>"
            ]
          },
          "metadata": {
            "tags": []
          },
          "execution_count": 8
        },
        {
          "output_type": "display_data",
          "data": {
            "image/png": "[encoded data removed]",
            "text/plain": [
              "<Figure size 432x288 with 1 Axes>"
            ]
          },
          "metadata": {
            "tags": []
          }
        }
      ]
    },
    {
      "cell_type": "code",
      "metadata": {
        "id": "JioCkInuO3b0",
        "colab_type": "code",
        "outputId": "abc4384c-7216-4aee-8342-24411f6f19a1",
        "colab": {
          "base_uri": "https://localhost:8080/",
          "height": 70
        }
      },
      "source": [
        "print(\"la purchase_value moyenne en cas de fraude est de {}$ +/- {}$\" .format(round(fraude.purchase_value.mean(),2),(round(fraude_light.purchase_value.std(),2))))\n",
        "print(\"la purchase_value max en cas de fraude est de {}$\" .format(fraude.purchase_value.max()))\n",
        "print(\"la purchase_value min en cas de fraude est de {}$\" .format(fraude.purchase_value.min()))"
      ],
      "execution_count": 0,
      "outputs": [
        {
          "output_type": "stream",
          "text": [
            "la purchase_value moyenne en cas de fraude est de 36.99$ +/- 18.4$\n",
            "la purchase_value max en cas de fraude est de 111$\n",
            "la purchase_value min en cas de fraude est de 9$\n"
          ],
          "name": "stdout"
        }
      ]
    },
    {
      "cell_type": "code",
      "metadata": {
        "id": "SsCL-pgNWuWm",
        "colab_type": "code",
        "colab": {}
      },
      "source": [
        "#Nb de fraudes en fonction de la purchase_value\n",
        "data_purchase_value3=fraude.groupby('purchase_value').sum()\n",
        "chart_data_purchase_value3=pd.DataFrame(data_purchase_value3.sort_values('resultat',ascending=False)).reset_index()"
      ],
      "execution_count": 0,
      "outputs": []
    },
    {
      "cell_type": "markdown",
      "metadata": {
        "id": "liDo9-pybZkN",
        "colab_type": "text"
      },
      "source": [
        "Distribution du nb de fraudes à tendance plutôt uniforme en-dessous d'une purchase value de 50"
      ]
    },
    {
      "cell_type": "code",
      "metadata": {
        "id": "Sb-lFwxlcw2G",
        "colab_type": "code",
        "outputId": "5c5d2c4f-e1c7-4882-9c0b-befdf7bf4ac5",
        "colab": {
          "base_uri": "https://localhost:8080/",
          "height": 293
        }
      },
      "source": [
        "#fig, ax3=plt.subplots(figsize=(12,5))\n",
        "ax3=sns.catplot(x='purchase_value', y='resultat', data=chart_data_purchase_value3, kind='bar', height = 3.5, aspect = 5)\n",
        "ax3.set(title=\"Nb de fraudes en fonction de la purchase_value\", xlabel=\"purchase_value\",ylabel=\"nombre de fraudes\")"
      ],
      "execution_count": 0,
      "outputs": [
        {
          "output_type": "execute_result",
          "data": {
            "text/plain": [
              "<seaborn.axisgrid.FacetGrid at 0x7f3f16360cf8>"
            ]
          },
          "metadata": {
            "tags": []
          },
          "execution_count": 38
        },
        {
          "output_type": "display_data",
          "data": {
            "image/png": "[encoded data removed]",
            "text/plain": [
              "<Figure size 1260x252 with 1 Axes>"
            ]
          },
          "metadata": {
            "tags": []
          }
        }
      ]
    },
    {
      "cell_type": "code",
      "metadata": {
        "id": "SqbHwfFXo46y",
        "colab_type": "code",
        "colab": {}
      },
      "source": [
        "#Nombre de commandes par device_id. Nous filtrons, seules les occurences supérieures à 3.\n",
        "data_device_id=fraude.device_id.value_counts()\n",
        "chart_data_device_id=pd.DataFrame(data_device_id.sort_values(ascending=False)).reset_index()\n",
        "chart_data_device_id=chart_data_device_id.rename(columns = {'index':'device_id','device_id':'nombres_de_commandes'})\n",
        "chart_data_device_id=chart_data_device_id[chart_data_device_id.nombres_de_commandes>3]"
      ],
      "execution_count": 0,
      "outputs": []
    },
    {
      "cell_type": "markdown",
      "metadata": {
        "id": "x-jYaAkEcX9q",
        "colab_type": "text"
      },
      "source": [
        "les device_id réalisant les fraudes peuvent opérer jusqu'à 20 commandes. Les fraudeurs peuvent récidiver avec la même machine."
      ]
    },
    {
      "cell_type": "code",
      "metadata": {
        "id": "R8H3lXBH954L",
        "colab_type": "code",
        "outputId": "542fe777-ec7b-4d0d-d035-ee9274f3a54a",
        "colab": {
          "base_uri": "https://localhost:8080/",
          "height": 332
        }
      },
      "source": [
        "#fig, ax4=plt.subplots(figsize=(18,5))\n",
        "ax4=sns.catplot(x='device_id', y='nombres_de_commandes', data=chart_data_device_id, kind='bar', height = 4, aspect = 5)\n",
        "ax4.set(title=\"Nb de commandes en fonction du device_id sachant fraude\", xlabel=\"device_id\")\n",
        "\n",
        "for num_figure in plt.get_fignums()[1:]:\n",
        "  plt.close(num_figure)\n"
      ],
      "execution_count": 0,
      "outputs": [
        {
          "output_type": "display_data",
          "data": {
            "image/png": "[encoded data removed]",
            "text/plain": [
              "<Figure size 1440x288 with 1 Axes>"
            ]
          },
          "metadata": {
            "tags": []
          }
        }
      ]
    },
    {
      "cell_type": "code",
      "metadata": {
        "id": "gkQqEfikVkuC",
        "colab_type": "code",
        "outputId": "19a22f64-b91b-4473-8676-fd2ddd439088",
        "colab": {
          "base_uri": "https://localhost:8080/",
          "height": 66
        }
      },
      "source": [
        "#Montant total des commandes en fonction du device_id\n",
        "data_device_id2=fraude.groupby('device_id').sum()\n",
        "chart_data_device_id2=pd.DataFrame(data_device_id2.sort_values('purchase_value',ascending=False)).reset_index()\n",
        "\n",
        "print(\"le montant total moyen des achats par device_id en cas de fraude est de {}$ +/- {}$\" .format(round(chart_data_device_id2.purchase_value.mean(),2),(round(chart_data_device_id2.purchase_value.std(),2))))\n",
        "print(\"le montant total max des achats par device_id en cas de fraude est de {}$\" .format(chart_data_device_id2.purchase_value.max()))\n",
        "print(\"le montant total min des achats par device_id en cas de fraude est de {}$\" .format(chart_data_device_id2.purchase_value.min()))\n"
      ],
      "execution_count": 0,
      "outputs": [
        {
          "output_type": "stream",
          "text": [
            "le montant total moyen des achats par device_id en cas de fraude est de 67.08$ +/- 83.6$\n",
            "le montant total max des achats par device_id en cas de fraude est de 774$\n",
            "le montant total min des achats par device_id en cas de fraude est de 9$\n"
          ],
          "name": "stdout"
        }
      ]
    },
    {
      "cell_type": "markdown",
      "metadata": {
        "id": "Kxqx_tepc2TF",
        "colab_type": "text"
      },
      "source": [
        "Un même device_id peut cumuler jusqu'à 1377 d'achats frauduleux. Si une opération frauduleuse unitaire est discrète en terme de terme de purchase_value, le montant cumulé de l'historique d'achats d'un même device_id peut être important."
      ]
    },
    {
      "cell_type": "code",
      "metadata": {
        "id": "vDEu7-L0VkZi",
        "colab_type": "code",
        "outputId": "a7496337-8bd7-4de1-829f-1321ba11406b",
        "colab": {
          "base_uri": "https://localhost:8080/",
          "height": 348
        }
      },
      "source": [
        "#fig, ax5=plt.subplots(figsize=(12,5))\n",
        "ax5=sns.catplot(x='device_id', y='purchase_value', data=chart_data_device_id2, kind='bar', height = 4, aspect = 5)\n",
        "ax5.set(title=\"Montant total des purchase_value par device_id sachant fraude\", xlabel=\"device_id\",ylabel=\"somme des purchase_value\" )\n",
        "plt.ylim(0,800)\n"
      ],
      "execution_count": 0,
      "outputs": [
        {
          "output_type": "execute_result",
          "data": {
            "text/plain": [
              "(0, 800)"
            ]
          },
          "metadata": {
            "tags": []
          },
          "execution_count": 25
        },
        {
          "output_type": "display_data",
          "data": {
            "image/png": "[encoded data removed]",
            "text/plain": [
              "<Figure size 1440x288 with 1 Axes>"
            ]
          },
          "metadata": {
            "tags": []
          }
        }
      ]
    },
    {
      "cell_type": "code",
      "metadata": {
        "id": "qCPQlhSQuTwf",
        "colab_type": "code",
        "colab": {}
      },
      "source": [
        "#Top10 des pays origines en terme de nombres de fraudes\n",
        "data_country=fraude.groupby('pays').sum()\n",
        "data_country=pd.DataFrame(data_country.sort_values('resultat',ascending=False)).reset_index()\n",
        "\n",
        "#Top10 des pays origines en terme de montant total de fraudes\n",
        "data_country2=pd.DataFrame(data_country.sort_values('purchase_value',ascending=False)).reset_index()\n",
        "chart_data_country2=data_country2.loc[:9,['pays','purchase_value']].sort_values('purchase_value',ascending=True)"
      ],
      "execution_count": 0,
      "outputs": []
    },
    {
      "cell_type": "code",
      "metadata": {
        "id": "TxvDs0zE3lXi",
        "colab_type": "code",
        "colab": {}
      },
      "source": [
        "chart_data_country1=data_country.loc[:9,['pays','resultat']].sort_values('resultat',ascending=True)"
      ],
      "execution_count": 0,
      "outputs": []
    },
    {
      "cell_type": "code",
      "metadata": {
        "id": "HFKt5ZDf8MLS",
        "colab_type": "code",
        "outputId": "6744e45e-958d-4541-8960-ba04a5be474a",
        "colab": {
          "base_uri": "https://localhost:8080/",
          "height": 473
        }
      },
      "source": [
        "fig, ([ax10, ax11]) = plt.subplots(1,2, figsize=(17,7))\n",
        "\n",
        "ax10.barh(chart_data_country1.pays, chart_data_country1.resultat)\n",
        "ax10.set_title(\"Top10 des pays origines \\n en terme de nombre de fraudes\\n\")\n",
        "\n",
        "\n",
        "ax11.barh(chart_data_country2.pays, chart_data_country2.purchase_value)\n",
        "ax11.set_title(\"Top10 des pays origines \\n en terme de montant total des fraudes\\n\")\n",
        "plt.show()"
      ],
      "execution_count": 0,
      "outputs": [
        {
          "output_type": "display_data",
          "data": {
            "image/png": "[encoded data removed]",
            "text/plain": [
              "<Figure size 1224x504 with 2 Axes>"
            ]
          },
          "metadata": {
            "tags": []
          }
        }
      ]
    },
    {
      "cell_type": "markdown",
      "metadata": {
        "id": "zxTAYymyWnbf",
        "colab_type": "text"
      },
      "source": [
        "Une grande quantité de fraudes a pour pays d'origine United States suivi de Pays inconnus."
      ]
    },
    {
      "cell_type": "code",
      "metadata": {
        "id": "ID2YPHv6ekB2",
        "colab_type": "code",
        "outputId": "66caed66-4ac4-4d28-fe9d-e5af263ae4de",
        "colab": {
          "base_uri": "https://localhost:8080/",
          "height": 411
        }
      },
      "source": [
        "#répartition par pourcentage des montants des fraudes par pays\n",
        "chart_data_country3=data_country2.loc[:,['pays','purchase_value']].sort_values('purchase_value',ascending=False)\n",
        "chart_data_country3=chart_data_country3.groupby('pays').sum()\n",
        "chart_data_country3=pd.DataFrame(chart_data_country3.sort_values('purchase_value',ascending=False)).reset_index()\n",
        "\n",
        "repartition=[i for i in chart_data_country3.purchase_value[:9]]\n",
        "som_top=sum(chart_data_country3.purchase_value[:9])\n",
        "som_autres=sum(chart_data_country3.purchase_value[9:])\n",
        "repartition.append(som_autres)\n",
        "\n",
        "m=[labels for labels in chart_data_country3.pays[:9]]\n",
        "m.append('Autres')\n",
        "\n",
        "plt.figure(figsize=(14,14))\n",
        "plt.subplot(2,2,1)\n",
        "plt.pie(repartition,labels=m, autopct='%1.1f%%', shadow=False, startangle=90)\n",
        "\n",
        "plt.legend(loc=\"lower left\")\n",
        "plt.title(\"Répartition par pourcentage des montants totaux des fraudes par pays\")"
      ],
      "execution_count": 0,
      "outputs": [
        {
          "output_type": "execute_result",
          "data": {
            "text/plain": [
              "Text(0.5, 1.0, 'Répartition par pourcentage des montants totaux des fraudes par pays')"
            ]
          },
          "metadata": {
            "tags": []
          },
          "execution_count": 315
        },
        {
          "output_type": "display_data",
          "data": {
            "image/png": "[encoded data removed]",
            "text/plain": [
              "<Figure size 1008x1008 with 1 Axes>"
            ]
          },
          "metadata": {
            "tags": []
          }
        }
      ]
    },
    {
      "cell_type": "code",
      "metadata": {
        "id": "zQtn6QTgV4gs",
        "colab_type": "code",
        "outputId": "56d9bf11-3d79-45e1-bb35-f7fae20bea5f",
        "colab": {
          "base_uri": "https://localhost:8080/",
          "height": 305
        }
      },
      "source": [
        "#distribution des délais entre inscription et opération d'achat sachant fraude\n",
        "sns.distplot(fraude.Date_Diff, bins=50);\n",
        "plt.title('Délai (purchase_time - signup_time) en secondes', y=1.05, size=10)\n",
        "plt.xlim(0,10**7)\n",
        "plt.show()"
      ],
      "execution_count": 0,
      "outputs": [
        {
          "output_type": "display_data",
          "data": {
            "image/png": "[encoded data removed]",
            "text/plain": [
              "<Figure size 432x288 with 1 Axes>"
            ]
          },
          "metadata": {
            "tags": []
          }
        }
      ]
    },
    {
      "cell_type": "code",
      "metadata": {
        "id": "5viFcff5YzYE",
        "colab_type": "code",
        "outputId": "411b38c6-c1a8-47f8-a327-8b2be5bb2481",
        "colab": {
          "base_uri": "https://localhost:8080/",
          "height": 34
        }
      },
      "source": [
        "fraude.Date_Diff.median()\n",
        "print(\"la médiane délai entre (purchase_time et signup_time) des fraudes est de {}s\" .format(fraude_light.Date_Diff.median()))"
      ],
      "execution_count": 0,
      "outputs": [
        {
          "output_type": "stream",
          "text": [
            "la médiane délai entre (purchase_time et signup_time) des fraudes est de 1.0s\n"
          ],
          "name": "stdout"
        }
      ]
    },
    {
      "cell_type": "markdown",
      "metadata": {
        "id": "J8ptqvY3ZlCt",
        "colab_type": "text"
      },
      "source": [
        "Une des caractéristiques d'explication de la fraude pourrait être le délai très court entre purchase_time et signup_time. "
      ]
    },
    {
      "cell_type": "code",
      "metadata": {
        "id": "XAye0Z1xcGpc",
        "colab_type": "code",
        "colab": {}
      },
      "source": [
        "#Montant total des commandes en fonction du user_id\n",
        "data_user_id=fraude.groupby('user_id').sum()\n",
        "chart_data_user_id=pd.DataFrame(data_user_id.sort_values('purchase_value',ascending=False)).reset_index()"
      ],
      "execution_count": 0,
      "outputs": []
    },
    {
      "cell_type": "markdown",
      "metadata": {
        "id": "6V9jNKpKdzx0",
        "colab_type": "text"
      },
      "source": [
        "Pas d'observation de fraudes multiples en classant par user_id."
      ]
    },
    {
      "cell_type": "code",
      "metadata": {
        "id": "c5tXKcaNdabW",
        "colab_type": "code",
        "outputId": "479d2263-8c69-4a75-db57-f51fc2f86409",
        "colab": {
          "base_uri": "https://localhost:8080/",
          "height": 436
        }
      },
      "source": [
        "data_user_id"
      ],
      "execution_count": 0,
      "outputs": [
        {
          "output_type": "execute_result",
          "data": {
            "text/html": [
              "<div>\n",
              "<style scoped>\n",
              "    .dataframe tbody tr th:only-of-type {\n",
              "        vertical-align: middle;\n",
              "    }\n",
              "\n",
              "    .dataframe tbody tr th {\n",
              "        vertical-align: top;\n",
              "    }\n",
              "\n",
              "    .dataframe thead th {\n",
              "        text-align: right;\n",
              "    }\n",
              "</style>\n",
              "<table border=\"1\" class=\"dataframe\">\n",
              "  <thead>\n",
              "    <tr style=\"text-align: right;\">\n",
              "      <th></th>\n",
              "      <th>purchase_value</th>\n",
              "      <th>age</th>\n",
              "      <th>ip_address</th>\n",
              "      <th>resultat</th>\n",
              "      <th>Date_Diff</th>\n",
              "    </tr>\n",
              "    <tr>\n",
              "      <th>user_id</th>\n",
              "      <th></th>\n",
              "      <th></th>\n",
              "      <th></th>\n",
              "      <th></th>\n",
              "      <th></th>\n",
              "    </tr>\n",
              "  </thead>\n",
              "  <tbody>\n",
              "    <tr>\n",
              "      <th>39</th>\n",
              "      <td>31</td>\n",
              "      <td>50</td>\n",
              "      <td>3142341272</td>\n",
              "      <td>1</td>\n",
              "      <td>1</td>\n",
              "    </tr>\n",
              "    <tr>\n",
              "      <th>44</th>\n",
              "      <td>33</td>\n",
              "      <td>33</td>\n",
              "      <td>4116284408</td>\n",
              "      <td>1</td>\n",
              "      <td>9216023</td>\n",
              "    </tr>\n",
              "    <tr>\n",
              "      <th>100</th>\n",
              "      <td>27</td>\n",
              "      <td>36</td>\n",
              "      <td>2776528971</td>\n",
              "      <td>1</td>\n",
              "      <td>6597371</td>\n",
              "    </tr>\n",
              "    <tr>\n",
              "      <th>101</th>\n",
              "      <td>47</td>\n",
              "      <td>36</td>\n",
              "      <td>3492388077</td>\n",
              "      <td>1</td>\n",
              "      <td>5878062</td>\n",
              "    </tr>\n",
              "    <tr>\n",
              "      <th>123</th>\n",
              "      <td>37</td>\n",
              "      <td>54</td>\n",
              "      <td>3799088341</td>\n",
              "      <td>1</td>\n",
              "      <td>1</td>\n",
              "    </tr>\n",
              "    <tr>\n",
              "      <th>...</th>\n",
              "      <td>...</td>\n",
              "      <td>...</td>\n",
              "      <td>...</td>\n",
              "      <td>...</td>\n",
              "      <td>...</td>\n",
              "    </tr>\n",
              "    <tr>\n",
              "      <th>399916</th>\n",
              "      <td>66</td>\n",
              "      <td>36</td>\n",
              "      <td>399358891</td>\n",
              "      <td>1</td>\n",
              "      <td>1</td>\n",
              "    </tr>\n",
              "    <tr>\n",
              "      <th>399944</th>\n",
              "      <td>21</td>\n",
              "      <td>54</td>\n",
              "      <td>2441563512</td>\n",
              "      <td>1</td>\n",
              "      <td>1</td>\n",
              "    </tr>\n",
              "    <tr>\n",
              "      <th>399974</th>\n",
              "      <td>15</td>\n",
              "      <td>28</td>\n",
              "      <td>214120626</td>\n",
              "      <td>1</td>\n",
              "      <td>1</td>\n",
              "    </tr>\n",
              "    <tr>\n",
              "      <th>399979</th>\n",
              "      <td>56</td>\n",
              "      <td>29</td>\n",
              "      <td>224419543</td>\n",
              "      <td>1</td>\n",
              "      <td>5133930</td>\n",
              "    </tr>\n",
              "    <tr>\n",
              "      <th>400000</th>\n",
              "      <td>58</td>\n",
              "      <td>25</td>\n",
              "      <td>1217910956</td>\n",
              "      <td>1</td>\n",
              "      <td>2964236</td>\n",
              "    </tr>\n",
              "  </tbody>\n",
              "</table>\n",
              "<p>14151 rows × 5 columns</p>\n",
              "</div>"
            ],
            "text/plain": [
              "         purchase_value  age  ip_address  resultat  Date_Diff\n",
              "user_id                                                      \n",
              "39                   31   50  3142341272         1          1\n",
              "44                   33   33  4116284408         1    9216023\n",
              "100                  27   36  2776528971         1    6597371\n",
              "101                  47   36  3492388077         1    5878062\n",
              "123                  37   54  3799088341         1          1\n",
              "...                 ...  ...         ...       ...        ...\n",
              "399916               66   36   399358891         1          1\n",
              "399944               21   54  2441563512         1          1\n",
              "399974               15   28   214120626         1          1\n",
              "399979               56   29   224419543         1    5133930\n",
              "400000               58   25  1217910956         1    2964236\n",
              "\n",
              "[14151 rows x 5 columns]"
            ]
          },
          "metadata": {
            "tags": []
          },
          "execution_count": 319
        }
      ]
    },
    {
      "cell_type": "markdown",
      "metadata": {
        "id": "rMDaImG3alju",
        "colab_type": "text"
      },
      "source": [
        "# FEATURE ENGINEERING"
      ]
    },
    {
      "cell_type": "markdown",
      "metadata": {
        "id": "8hJFswC8xDwM",
        "colab_type": "text"
      },
      "source": [
        "Le délai entre **signuptime** et **purchasetime** permettait de soupçonner une fraude (notamment 1s). Pour donner cette info au modèle, on crée une variable catégorielle **categorical_time** selon 5 quantiles de délais. Sur le même principe, on a voulu apporter deux informations supplémentaires au modèle visant à porter l’attention sur certains utilisateurs. L’EDA a montré un signe de fraude lié au nb de commandes par device_id et un autre lié au montant total des commandes par un même device_id. Ce sont deux informations liées à l’historique des achats.\n",
        "On créé deux variables catégorielles: \n",
        "\n",
        "1/**frequent_user** : 0 ou 1. 1 si historique du nb de commandes est >=3 pour un même device_id.\n",
        "\n",
        "2/**client_quality** : bronze/silver/gold/premium. Ce grade est donné en fonction de l’historique du montant total des commandes par un même device_id. Les classes sont 0-75,75-125,125-175,+175.\n",
        "\n",
        "La liste des pays est très vaste. Nous créons une variable catégorielle **worldwide_zone** qui regroupe les pays selon leur zone géographique. Ainsi on réduit le nombre de variables.\n",
        "\n",
        "Nous allons aussi utiliser une variable **categorical_age** pour répartir les ages selon 6 classes.\n"
      ]
    },
    {
      "cell_type": "code",
      "metadata": {
        "id": "_jjdKqWgahZa",
        "colab_type": "code",
        "colab": {}
      },
      "source": [
        "#Lecture fichier dataset feature engineering\n",
        "#dataset = pd.read_csv(\"/content/dataset_FE.csv\")"
      ],
      "execution_count": 0,
      "outputs": []
    },
    {
      "cell_type": "code",
      "metadata": {
        "id": "bjImNvJeahWD",
        "colab_type": "code",
        "colab": {}
      },
      "source": [
        "#Création d'un New feature frequent_user. On repère les utilisateurs ayant déjà réalisé plus de 3 commandes.\n",
        "dataset['frequent_user']=dataset.device_id.apply(lambda x: 1 if data_device_id.values[data_device_id.index==x]>=3\n",
        "                                                 else 0)"
      ],
      "execution_count": 0,
      "outputs": []
    },
    {
      "cell_type": "code",
      "metadata": {
        "id": "BSyn3_8jkYdC",
        "colab_type": "code",
        "colab": {}
      },
      "source": [
        "#Création d'un New Feature client_quality : quatre grades accordés selon l'historique du montant total des commandes du device_id.\n",
        "dataset['client_quality']=dataset.device_id.apply(lambda x: 'premium' if data_device_id2.purchase_value.values[data_device_id2.index==x]>=175\n",
        "                                                else 'gold' if data_device_id2.purchase_value.values[data_device_id2.index==x]>=125\n",
        "                                                else 'silver' if data_device_id2.purchase_value.values[data_device_id2.index==x]>=75\n",
        "                                                else 'bronze')"
      ],
      "execution_count": 0,
      "outputs": []
    },
    {
      "cell_type": "code",
      "metadata": {
        "id": "n4N2PAfS14Oo",
        "colab_type": "code",
        "colab": {}
      },
      "source": [
        "#Création d'une New feature categorical_time. \n",
        "dataset['categorical_time'] = pd.cut(dataset['Date_Diff'], 5, labels=False)"
      ],
      "execution_count": 0,
      "outputs": []
    },
    {
      "cell_type": "code",
      "metadata": {
        "id": "Dxsermyr51A1",
        "colab_type": "code",
        "colab": {}
      },
      "source": [
        "#Création d'une New feature categorical_age. \n",
        "labels=[\"20-25 yo\",\"25-30 yo\",\"30-35 yo\",\"35-50 yo\",\"50-65 yo\",\"65-80 yo\"]\n",
        "dataset['categorical_age'] = pd.cut(dataset['age'], \n",
        "                                    [0,25,30,35,50,65,80],\n",
        "                                    right=False,\n",
        "                                    labels=labels)"
      ],
      "execution_count": 0,
      "outputs": []
    },
    {
      "cell_type": "code",
      "metadata": {
        "id": "Y4er7p81FxlC",
        "colab_type": "code",
        "outputId": "acddda98-fc50-4552-f3b3-e066f73a4410",
        "colab": {
          "base_uri": "https://localhost:8080/",
          "height": 301
        }
      },
      "source": [
        "dataset.head()"
      ],
      "execution_count": 0,
      "outputs": [
        {
          "output_type": "execute_result",
          "data": {
            "text/html": [
              "<div>\n",
              "<style scoped>\n",
              "    .dataframe tbody tr th:only-of-type {\n",
              "        vertical-align: middle;\n",
              "    }\n",
              "\n",
              "    .dataframe tbody tr th {\n",
              "        vertical-align: top;\n",
              "    }\n",
              "\n",
              "    .dataframe thead th {\n",
              "        text-align: right;\n",
              "    }\n",
              "</style>\n",
              "<table border=\"1\" class=\"dataframe\">\n",
              "  <thead>\n",
              "    <tr style=\"text-align: right;\">\n",
              "      <th></th>\n",
              "      <th>user_id</th>\n",
              "      <th>signup_time</th>\n",
              "      <th>purchase_time</th>\n",
              "      <th>purchase_value</th>\n",
              "      <th>device_id</th>\n",
              "      <th>source</th>\n",
              "      <th>browser</th>\n",
              "      <th>sex</th>\n",
              "      <th>age</th>\n",
              "      <th>ip_address</th>\n",
              "      <th>resultat</th>\n",
              "      <th>Date_Diff</th>\n",
              "      <th>pays</th>\n",
              "      <th>frequent_user</th>\n",
              "      <th>client_quality</th>\n",
              "      <th>categorical_time</th>\n",
              "      <th>categorical_age</th>\n",
              "    </tr>\n",
              "  </thead>\n",
              "  <tbody>\n",
              "    <tr>\n",
              "      <th>110447</th>\n",
              "      <td>62421</td>\n",
              "      <td>2015-02-16 00:17:05</td>\n",
              "      <td>2015-03-08 10:00:39</td>\n",
              "      <td>46</td>\n",
              "      <td>ZCLZTAJPCRAQX</td>\n",
              "      <td>Direct</td>\n",
              "      <td>Safari</td>\n",
              "      <td>M</td>\n",
              "      <td>36</td>\n",
              "      <td>52093</td>\n",
              "      <td>0</td>\n",
              "      <td>1763014</td>\n",
              "      <td>Pays inconnu</td>\n",
              "      <td>0</td>\n",
              "      <td>bronze</td>\n",
              "      <td>0</td>\n",
              "      <td>35-50 yo</td>\n",
              "    </tr>\n",
              "    <tr>\n",
              "      <th>2589</th>\n",
              "      <td>173212</td>\n",
              "      <td>2015-03-08 04:03:22</td>\n",
              "      <td>2015-03-20 17:23:45</td>\n",
              "      <td>33</td>\n",
              "      <td>YFGYOALADBHLT</td>\n",
              "      <td>Ads</td>\n",
              "      <td>IE</td>\n",
              "      <td>F</td>\n",
              "      <td>30</td>\n",
              "      <td>93447</td>\n",
              "      <td>0</td>\n",
              "      <td>1084823</td>\n",
              "      <td>Pays inconnu</td>\n",
              "      <td>0</td>\n",
              "      <td>bronze</td>\n",
              "      <td>0</td>\n",
              "      <td>30-35 yo</td>\n",
              "    </tr>\n",
              "    <tr>\n",
              "      <th>16752</th>\n",
              "      <td>242286</td>\n",
              "      <td>2015-05-17 16:45:54</td>\n",
              "      <td>2015-05-26 08:54:34</td>\n",
              "      <td>33</td>\n",
              "      <td>QZNVQTUITFTHH</td>\n",
              "      <td>Direct</td>\n",
              "      <td>FireFox</td>\n",
              "      <td>F</td>\n",
              "      <td>32</td>\n",
              "      <td>105818</td>\n",
              "      <td>0</td>\n",
              "      <td>749320</td>\n",
              "      <td>Pays inconnu</td>\n",
              "      <td>0</td>\n",
              "      <td>bronze</td>\n",
              "      <td>0</td>\n",
              "      <td>30-35 yo</td>\n",
              "    </tr>\n",
              "    <tr>\n",
              "      <th>51261</th>\n",
              "      <td>370003</td>\n",
              "      <td>2015-03-03 19:58:39</td>\n",
              "      <td>2015-05-28 21:09:13</td>\n",
              "      <td>33</td>\n",
              "      <td>PIBUQMBIELMMG</td>\n",
              "      <td>Ads</td>\n",
              "      <td>IE</td>\n",
              "      <td>M</td>\n",
              "      <td>40</td>\n",
              "      <td>117566</td>\n",
              "      <td>0</td>\n",
              "      <td>7434634</td>\n",
              "      <td>Pays inconnu</td>\n",
              "      <td>0</td>\n",
              "      <td>bronze</td>\n",
              "      <td>3</td>\n",
              "      <td>35-50 yo</td>\n",
              "    </tr>\n",
              "    <tr>\n",
              "      <th>17</th>\n",
              "      <td>119824</td>\n",
              "      <td>2015-03-20 00:31:27</td>\n",
              "      <td>2015-04-05 07:31:46</td>\n",
              "      <td>55</td>\n",
              "      <td>WFIIFCPIOGMHT</td>\n",
              "      <td>Ads</td>\n",
              "      <td>Safari</td>\n",
              "      <td>M</td>\n",
              "      <td>38</td>\n",
              "      <td>131423</td>\n",
              "      <td>0</td>\n",
              "      <td>1407619</td>\n",
              "      <td>Pays inconnu</td>\n",
              "      <td>0</td>\n",
              "      <td>bronze</td>\n",
              "      <td>0</td>\n",
              "      <td>35-50 yo</td>\n",
              "    </tr>\n",
              "  </tbody>\n",
              "</table>\n",
              "</div>"
            ],
            "text/plain": [
              "        user_id          signup_time  ... categorical_time  categorical_age\n",
              "110447    62421  2015-02-16 00:17:05  ...                0         35-50 yo\n",
              "2589     173212  2015-03-08 04:03:22  ...                0         30-35 yo\n",
              "16752    242286  2015-05-17 16:45:54  ...                0         30-35 yo\n",
              "51261    370003  2015-03-03 19:58:39  ...                3         35-50 yo\n",
              "17       119824  2015-03-20 00:31:27  ...                0         35-50 yo\n",
              "\n",
              "[5 rows x 17 columns]"
            ]
          },
          "metadata": {
            "tags": []
          },
          "execution_count": 355
        }
      ]
    },
    {
      "cell_type": "code",
      "metadata": {
        "id": "eHeZzmBf12Rk",
        "colab_type": "code",
        "outputId": "98adcbea-82d9-45cf-8acd-37e98109b747",
        "colab": {
          "base_uri": "https://localhost:8080/",
          "height": 461
        }
      },
      "source": [
        "dataset.pays.unique()"
      ],
      "execution_count": 0,
      "outputs": [
        {
          "output_type": "execute_result",
          "data": {
            "text/plain": [
              "array(['Pays inconnu', 'Japan', 'China', 'Viet Nam', 'Hong Kong',\n",
              "       'Korea Republic of', 'Australia',\n",
              "       'Taiwan; Republic of China (ROC)', 'France', 'European Union',\n",
              "       'United Kingdom', 'Italy', 'Ukraine', 'Kazakhstan', 'Saudi Arabia',\n",
              "       'Russian Federation', 'Denmark', 'Norway', 'Germany',\n",
              "       'Iran (ISLAMIC Republic Of)', 'Sweden', 'United States', 'Romania',\n",
              "       'Turkey', 'United Arab Emirates', 'Czech Republic', 'Netherlands',\n",
              "       'Switzerland', 'Azerbaijan', 'Austria', 'New Zealand', 'India',\n",
              "       'Singapore', 'Canada', 'Poland', 'Cyprus', 'Indonesia', 'Spain',\n",
              "       'Portugal', 'Kuwait', 'Belarus', 'Hungary', 'Moldova Republic of',\n",
              "       'Pakistan', 'South Africa', 'Egypt', 'Sudan', 'Algeria', 'Nigeria',\n",
              "       'Libyan Arab Jamahiriya', 'Malaysia', 'Lebanon', 'Israel',\n",
              "       'Belgium', 'Greece', 'Finland', 'Virgin Islands (U.S.)',\n",
              "       'Macedonia', 'Malta', 'Lithuania', 'Ireland', 'Latvia', 'Estonia',\n",
              "       'Bulgaria', 'Uzbekistan', 'Croatia (LOCAL Name: Hrvatska)',\n",
              "       'Turkmenistan', 'Serbia', 'Slovakia (SLOVAK Republic)', 'Thailand',\n",
              "       'Philippines', 'Bangladesh', 'Morocco', 'Angola',\n",
              "       'Bosnia and Herzegowina', 'Luxembourg', 'Sri Lanka', 'Iceland',\n",
              "       'Mexico', 'Brazil', 'Chile', 'Uruguay', 'Argentina', 'Colombia',\n",
              "       'Slovenia', 'Mauritius', 'Seychelles', 'Bolivia', 'Venezuela',\n",
              "       'Costa Rica', 'Georgia', 'El Salvador', 'Peru', 'Paraguay',\n",
              "       'Panama', 'Honduras', 'Ecuador', 'Trinidad and Tobago',\n",
              "       'Dominican Republic', 'Armenia', 'Guatemala', 'Senegal', 'Tunisia',\n",
              "       'Namibia', 'Malawi', 'Kenya', 'Nicaragua', 'Afghanistan',\n",
              "       \"Cote D'ivoire\", 'Montenegro'], dtype=object)"
            ]
          },
          "metadata": {
            "tags": []
          },
          "execution_count": 325
        }
      ]
    },
    {
      "cell_type": "code",
      "metadata": {
        "id": "9EAJPKfu12HT",
        "colab_type": "code",
        "colab": {}
      },
      "source": [
        "african_country = [\"Algeria\",\"Tunisia\",\"South Africa\",\"Egypt\",\"Sri Lanka\",\"Nigeria\",\"Djibouti\",\n",
        "                   \"Saudi Arabia\",\"Morocco\",\"Namibia\",\"Azerbaijan\",\"Malawi\",\"Angola\",\"Zambia\",\n",
        "                   \"Kenya\",\"Sudan\",\"Cote D'ivoire\", \"Senegal\",\"Gabon\",\"Libyan Arab Jamahiriya\",\n",
        "                   \"Mozambique\",\"Ethiopia\",\"Ghana\",\"South Sudan\",\"Congo\",\"Uganda\",\"Jamaica\",\"Cameroon\",\"Congo The Democratic Republic of The\",\n",
        "                   \"Botswana\",\"Burkina Faso\",\"Reunion\",\"Rwanda\",\"Tanzania United Republic of\",\n",
        "                   \"Gambia\",\"Benin\",\"Niger\",\"Zimbabwe\"]\n",
        "\n",
        "european_country = [\"France\",\"United Kingdom\",\"Greece\",\"Cyprus\",\"Italy\",\"Belgium\",\"Netherlands\",\n",
        "                    \"Poland\",\"Norway\",\"Spain\",\"Germany\",\"Croatia (LOCAL Name: Hrvatska)\",\n",
        "                    \"European Union\",\"Sweden\",\"Denmark\",\"Turkey\",\"Czech Republic\",\"Switzerland\",\n",
        "                    \"Hungary\",\"Ukraine\",\"Ireland\",\"Latvia\",\"Finland\",\"Lithuania\",\"Belarus\",\n",
        "                    \"Armenia\",\"Romania\",\"Moldova Republic of\",\"Luxembourg\",\"Austria\",\"Bulgaria\",\"Portugal\",\"Slovenia\",\n",
        "                    \"Serbia\",\"Georgia\",\"Slovakia (SLOVAK Republic)\",\"Bosnia and Herzegowina\",\"Estonia\",\n",
        "                    \"Albania\",\"Montenegro\",\"Macedonia\"]\n",
        "\n",
        "american_country = [\"United States\",\"Canada\",\"Brazil\",\"Chile\",\"Argentina\",\"Mexico\",\n",
        "                    \"Trinidad and Tobago\",\"Ecuador\",\"Colombia\",\"Peru\",\"Venezuela\",\n",
        "                    \"Costa Rica\",\"Paraguay\",\"Dominican Republic\",\n",
        "                    \"Honduras\",\"Nicaragua\",\"Virgin Islands (U.S.)\",\"Guatemala\",\"Bolivia\",\n",
        "                    \"Uruguay\",\"Panama\",\"Cuba\"]\n",
        "\n",
        "asian_middle_east_country = [\"Iran (ISLAMIC Republic Of)\",\"Taiwan; Republic of China (ROC)\",\"Hong Kong\",\"Israel\",\n",
        "                        \"Palestinian Territory Occupied\",\"Jordan\",\"Oman\",\"Yemen\", \"Myanmar\",\"Mongolia\",\"Bhutan\",\"Nepal\",\n",
        "                        \"China\",\"Malaysia\",\"Korea Republic of\",\"Viet Nam\",\"Russian Federation\",\"India\",\n",
        "                        \"Turkmenistan\",\"Kuwait\",\"United Arab Emirates\",\"Kazakhstan\",\"Lao People's Democratic Republic\",\n",
        "                        \"Indonesia\",\"Pakistan\",\"Thailand\",\"Lebanon\",\"Singapore\",\"Uzbekistan\",\n",
        "                        \"Bangladesh\",\"Afghanistan\",\"Qatar\",\"Kyrgyzstan\",\"Cambodia\",\"Iraq\",\n",
        "                        \"Philippines\",\"Tajikistan\",\"Syrian Arab Republic\"]\n",
        "\n",
        "other_country = [\"Iceland\",\"Malta\",\"El Salvador\",\"Mauritius\",\"Guam\",\"Japan\",\n",
        "                 \"Puerto Rico\",\"Maldives\",\"Barbados\",\"New Caledonia\",\"Belize\",\"Bahrain\",\"Australia\",\"New Zealand\",\n",
        "                 \"Haiti\",\"Papua New Guinea\",\"Gibraltar\",\"Brunei Darussalam\",\"Seychelles\",\"Bermuda\",\"Curacao\",\"Vanuatu\",\"British Indian Ocean Territory\",\n",
        "                 \"Saint Kitts and Nevis\",\"Dominica\",\"Macau\",\"Faroe Islands\",\"Monaco\", \"Cayman Islands\",\"Antigua and Barbuda\",\"Lesotho\",\"Fiji\",\n",
        "                 \"Bahamas\",\"Madagascar\",\"Bonaire; Sint Eustatius; Saba\",\"Liechtenstein\",\"Cape Verde\",\"Saint Martin\",\"San Marino\",\"Burundi\",\"Nauru\",\"Guadeloupe\"]"
      ],
      "execution_count": 0,
      "outputs": []
    },
    {
      "cell_type": "code",
      "metadata": {
        "id": "RCEdfN94-zXQ",
        "colab_type": "code",
        "colab": {}
      },
      "source": [
        "#Création d'une New feature worldwide_zone.\n",
        "dataset['worldwide_zone']=dataset['pays'].copy()\n",
        "dataset['worldwide_zone']=dataset['worldwide_zone'].replace(african_country,\"African country\")\n",
        "dataset['worldwide_zone']=dataset['worldwide_zone'].replace(european_country,\"European country\")\n",
        "dataset['worldwide_zone']=dataset['worldwide_zone'].replace(american_country,\"American country\")\n",
        "dataset['worldwide_zone']=dataset['worldwide_zone'].replace(asian_middle_east_country,\"Asian-Middle East country\")\n",
        "dataset['worldwide_zone']=dataset['worldwide_zone'].replace(other_country,\"Other country\")\n"
      ],
      "execution_count": 0,
      "outputs": []
    },
    {
      "cell_type": "code",
      "metadata": {
        "id": "vsB1qA2JwC30",
        "colab_type": "code",
        "outputId": "a2920d74-f3aa-4c5d-c2e7-357a2d58ab0d",
        "colab": {
          "base_uri": "https://localhost:8080/",
          "height": 301
        }
      },
      "source": [
        "dataset.head()"
      ],
      "execution_count": 0,
      "outputs": [
        {
          "output_type": "execute_result",
          "data": {
            "text/html": [
              "<div>\n",
              "<style scoped>\n",
              "    .dataframe tbody tr th:only-of-type {\n",
              "        vertical-align: middle;\n",
              "    }\n",
              "\n",
              "    .dataframe tbody tr th {\n",
              "        vertical-align: top;\n",
              "    }\n",
              "\n",
              "    .dataframe thead th {\n",
              "        text-align: right;\n",
              "    }\n",
              "</style>\n",
              "<table border=\"1\" class=\"dataframe\">\n",
              "  <thead>\n",
              "    <tr style=\"text-align: right;\">\n",
              "      <th></th>\n",
              "      <th>user_id</th>\n",
              "      <th>signup_time</th>\n",
              "      <th>purchase_time</th>\n",
              "      <th>purchase_value</th>\n",
              "      <th>device_id</th>\n",
              "      <th>source</th>\n",
              "      <th>browser</th>\n",
              "      <th>sex</th>\n",
              "      <th>age</th>\n",
              "      <th>ip_address</th>\n",
              "      <th>resultat</th>\n",
              "      <th>Date_Diff</th>\n",
              "      <th>pays</th>\n",
              "      <th>frequent_user</th>\n",
              "      <th>client_quality</th>\n",
              "      <th>categorical_time</th>\n",
              "      <th>categorical_age</th>\n",
              "      <th>worldwide_zone</th>\n",
              "    </tr>\n",
              "  </thead>\n",
              "  <tbody>\n",
              "    <tr>\n",
              "      <th>110447</th>\n",
              "      <td>62421</td>\n",
              "      <td>2015-02-16 00:17:05</td>\n",
              "      <td>2015-03-08 10:00:39</td>\n",
              "      <td>46</td>\n",
              "      <td>ZCLZTAJPCRAQX</td>\n",
              "      <td>Direct</td>\n",
              "      <td>Safari</td>\n",
              "      <td>M</td>\n",
              "      <td>36</td>\n",
              "      <td>52093</td>\n",
              "      <td>0</td>\n",
              "      <td>1763014</td>\n",
              "      <td>Pays inconnu</td>\n",
              "      <td>0</td>\n",
              "      <td>bronze</td>\n",
              "      <td>0</td>\n",
              "      <td>35-50 yo</td>\n",
              "      <td>Pays inconnu</td>\n",
              "    </tr>\n",
              "    <tr>\n",
              "      <th>2589</th>\n",
              "      <td>173212</td>\n",
              "      <td>2015-03-08 04:03:22</td>\n",
              "      <td>2015-03-20 17:23:45</td>\n",
              "      <td>33</td>\n",
              "      <td>YFGYOALADBHLT</td>\n",
              "      <td>Ads</td>\n",
              "      <td>IE</td>\n",
              "      <td>F</td>\n",
              "      <td>30</td>\n",
              "      <td>93447</td>\n",
              "      <td>0</td>\n",
              "      <td>1084823</td>\n",
              "      <td>Pays inconnu</td>\n",
              "      <td>0</td>\n",
              "      <td>bronze</td>\n",
              "      <td>0</td>\n",
              "      <td>30-35 yo</td>\n",
              "      <td>Pays inconnu</td>\n",
              "    </tr>\n",
              "    <tr>\n",
              "      <th>16752</th>\n",
              "      <td>242286</td>\n",
              "      <td>2015-05-17 16:45:54</td>\n",
              "      <td>2015-05-26 08:54:34</td>\n",
              "      <td>33</td>\n",
              "      <td>QZNVQTUITFTHH</td>\n",
              "      <td>Direct</td>\n",
              "      <td>FireFox</td>\n",
              "      <td>F</td>\n",
              "      <td>32</td>\n",
              "      <td>105818</td>\n",
              "      <td>0</td>\n",
              "      <td>749320</td>\n",
              "      <td>Pays inconnu</td>\n",
              "      <td>0</td>\n",
              "      <td>bronze</td>\n",
              "      <td>0</td>\n",
              "      <td>30-35 yo</td>\n",
              "      <td>Pays inconnu</td>\n",
              "    </tr>\n",
              "    <tr>\n",
              "      <th>51261</th>\n",
              "      <td>370003</td>\n",
              "      <td>2015-03-03 19:58:39</td>\n",
              "      <td>2015-05-28 21:09:13</td>\n",
              "      <td>33</td>\n",
              "      <td>PIBUQMBIELMMG</td>\n",
              "      <td>Ads</td>\n",
              "      <td>IE</td>\n",
              "      <td>M</td>\n",
              "      <td>40</td>\n",
              "      <td>117566</td>\n",
              "      <td>0</td>\n",
              "      <td>7434634</td>\n",
              "      <td>Pays inconnu</td>\n",
              "      <td>0</td>\n",
              "      <td>bronze</td>\n",
              "      <td>3</td>\n",
              "      <td>35-50 yo</td>\n",
              "      <td>Pays inconnu</td>\n",
              "    </tr>\n",
              "    <tr>\n",
              "      <th>17</th>\n",
              "      <td>119824</td>\n",
              "      <td>2015-03-20 00:31:27</td>\n",
              "      <td>2015-04-05 07:31:46</td>\n",
              "      <td>55</td>\n",
              "      <td>WFIIFCPIOGMHT</td>\n",
              "      <td>Ads</td>\n",
              "      <td>Safari</td>\n",
              "      <td>M</td>\n",
              "      <td>38</td>\n",
              "      <td>131423</td>\n",
              "      <td>0</td>\n",
              "      <td>1407619</td>\n",
              "      <td>Pays inconnu</td>\n",
              "      <td>0</td>\n",
              "      <td>bronze</td>\n",
              "      <td>0</td>\n",
              "      <td>35-50 yo</td>\n",
              "      <td>Pays inconnu</td>\n",
              "    </tr>\n",
              "  </tbody>\n",
              "</table>\n",
              "</div>"
            ],
            "text/plain": [
              "        user_id          signup_time  ... categorical_age  worldwide_zone\n",
              "110447    62421  2015-02-16 00:17:05  ...        35-50 yo    Pays inconnu\n",
              "2589     173212  2015-03-08 04:03:22  ...        30-35 yo    Pays inconnu\n",
              "16752    242286  2015-05-17 16:45:54  ...        30-35 yo    Pays inconnu\n",
              "51261    370003  2015-03-03 19:58:39  ...        35-50 yo    Pays inconnu\n",
              "17       119824  2015-03-20 00:31:27  ...        35-50 yo    Pays inconnu\n",
              "\n",
              "[5 rows x 18 columns]"
            ]
          },
          "metadata": {
            "tags": []
          },
          "execution_count": 359
        }
      ]
    },
    {
      "cell_type": "code",
      "metadata": {
        "id": "dNetL_EV-zTf",
        "colab_type": "code",
        "colab": {}
      },
      "source": [
        "#Export_csv = dataset.to_csv (r'/content/dataset_FE.csv', index = None, header=True) #creation fichier dataset feature engineering\n",
        "#ou lecture du fichier de Feature Engineering\n",
        "dataset = pd.read_csv('/content/dataset_FE.csv')"
      ],
      "execution_count": 0,
      "outputs": []
    },
    {
      "cell_type": "markdown",
      "metadata": {
        "id": "E0OHBYFGYs4o",
        "colab_type": "text"
      },
      "source": [
        "## MACHINE LEARNING"
      ]
    },
    {
      "cell_type": "code",
      "metadata": {
        "id": "DytJWEt4FPmi",
        "colab_type": "code",
        "colab": {}
      },
      "source": [
        "#Séparation de la variable cible du dataset\n",
        "#on a supprimé les variables explicatives exprimant un id\n",
        "y = dataset.loc[:, dataset.columns==\"resultat\"]\n",
        "col = [\"purchase_value\",\"source\",\"browser\",\"sex\",\"categorical_age\",\"frequent_user\",\"client_quality\",\"categorical_time\",\"worldwide_zone\"]\n",
        "X = dataset.loc[:, col]"
      ],
      "execution_count": 0,
      "outputs": []
    },
    {
      "cell_type": "code",
      "metadata": {
        "id": "I7fgBeIvFPi7",
        "colab_type": "code",
        "colab": {}
      },
      "source": [
        "#Séparation des variables explicatives en deux groupes, les numériques d'un côté et les qualitatives de l'autre.\n",
        "#num_col = X.select_dtypes([np.number]).columns\n",
        "#cat_col = X.select_dtypes(\"object\").columns\n",
        "\n",
        "num_col=[\"purchase_value\"]\n",
        "cat_col=[\"source\",\"browser\",\"sex\",\"categorical_age\",\"frequent_user\",\"client_quality\",\"categorical_time\",\"worldwide_zone\"]\n",
        "\n",
        "X_num = X[num_col]\n",
        "X_cat =  pd.get_dummies(X[cat_col],drop_first=True)"
      ],
      "execution_count": 0,
      "outputs": []
    },
    {
      "cell_type": "code",
      "metadata": {
        "id": "mZE1NV3NFPbA",
        "colab_type": "code",
        "colab": {}
      },
      "source": [
        "#on splitte les données en jeux de train et de test\n",
        "from sklearn.model_selection import train_test_split\n",
        "\n",
        "X_train_num, X_test_num, X_train_cat, X_test_cat, y_train, y_test = train_test_split(X_num, X_cat, y, test_size =0.2)"
      ],
      "execution_count": 0,
      "outputs": []
    },
    {
      "cell_type": "code",
      "metadata": {
        "id": "DvTQDoNaJAaO",
        "colab_type": "code",
        "outputId": "86874e17-a426-48b5-e52c-00940f079d1b",
        "colab": {
          "base_uri": "https://localhost:8080/",
          "height": 33
        }
      },
      "source": [
        "X_train_cat.shape"
      ],
      "execution_count": 0,
      "outputs": [
        {
          "output_type": "execute_result",
          "data": {
            "text/plain": [
              "(120889, 22)"
            ]
          },
          "metadata": {
            "tags": []
          },
          "execution_count": 7
        }
      ]
    },
    {
      "cell_type": "code",
      "metadata": {
        "id": "4L7IYjGLLICW",
        "colab_type": "code",
        "outputId": "7bbf71db-6f78-41a0-b7b7-c31c934359bf",
        "colab": {
          "base_uri": "https://localhost:8080/",
          "height": 191
        }
      },
      "source": [
        "X_train_num.head()"
      ],
      "execution_count": 0,
      "outputs": [
        {
          "output_type": "execute_result",
          "data": {
            "text/html": [
              "<div>\n",
              "<style scoped>\n",
              "    .dataframe tbody tr th:only-of-type {\n",
              "        vertical-align: middle;\n",
              "    }\n",
              "\n",
              "    .dataframe tbody tr th {\n",
              "        vertical-align: top;\n",
              "    }\n",
              "\n",
              "    .dataframe thead th {\n",
              "        text-align: right;\n",
              "    }\n",
              "</style>\n",
              "<table border=\"1\" class=\"dataframe\">\n",
              "  <thead>\n",
              "    <tr style=\"text-align: right;\">\n",
              "      <th></th>\n",
              "      <th>purchase_value</th>\n",
              "    </tr>\n",
              "  </thead>\n",
              "  <tbody>\n",
              "    <tr>\n",
              "      <th>139476</th>\n",
              "      <td>16</td>\n",
              "    </tr>\n",
              "    <tr>\n",
              "      <th>139389</th>\n",
              "      <td>30</td>\n",
              "    </tr>\n",
              "    <tr>\n",
              "      <th>79218</th>\n",
              "      <td>22</td>\n",
              "    </tr>\n",
              "    <tr>\n",
              "      <th>76889</th>\n",
              "      <td>43</td>\n",
              "    </tr>\n",
              "    <tr>\n",
              "      <th>142229</th>\n",
              "      <td>25</td>\n",
              "    </tr>\n",
              "  </tbody>\n",
              "</table>\n",
              "</div>"
            ],
            "text/plain": [
              "        purchase_value\n",
              "139476              16\n",
              "139389              30\n",
              "79218               22\n",
              "76889               43\n",
              "142229              25"
            ]
          },
          "metadata": {
            "tags": []
          },
          "execution_count": 9
        }
      ]
    },
    {
      "cell_type": "code",
      "metadata": {
        "id": "HIXQseZ3DIlZ",
        "colab_type": "code",
        "colab": {}
      },
      "source": [
        "from sklearn.preprocessing import StandardScaler\n",
        "sc = StandardScaler()\n",
        "sc_fit = sc.fit(X_train_num)\n",
        "\n",
        "X_train_num = pd.DataFrame(sc_fit.transform(X_train_num),\n",
        "                           columns= X_train_num.columns,\n",
        "                           index = X_train_num.index)\n",
        "\n",
        "X_train =  pd.merge(X_train_num, X_train_cat, right_index=True,\n",
        "                    left_index=True)\n",
        "\n",
        "X_train1, X_train2, y_train1, y_train2 = train_test_split(X_train, y_train,\n",
        "                                                          test_size=0.5)\n",
        "X_test_num = pd.DataFrame(sc_fit.transform(X_test_num),\n",
        "                          columns = X_test_num.columns,\n",
        "                          index = X_test_num.index)\n",
        "\n",
        "X_test= pd.merge(X_test_num, X_test_cat, right_index=True,\n",
        "                    left_index=True)"
      ],
      "execution_count": 0,
      "outputs": []
    },
    {
      "cell_type": "code",
      "metadata": {
        "id": "DKSaOj2Jc2Sn",
        "colab_type": "code",
        "outputId": "2ea66bd6-399d-4266-a803-eb58e473999d",
        "colab": {
          "base_uri": "https://localhost:8080/",
          "height": 472
        }
      },
      "source": [
        "X_train2.info()"
      ],
      "execution_count": 0,
      "outputs": [
        {
          "output_type": "stream",
          "text": [
            "<class 'pandas.core.frame.DataFrame'>\n",
            "Int64Index: 60445 entries, 97011 to 55791\n",
            "Data columns (total 23 columns):\n",
            "purchase_value                              60445 non-null float64\n",
            "frequent_user                               60445 non-null int64\n",
            "categorical_time                            60445 non-null int64\n",
            "source_Direct                               60445 non-null uint8\n",
            "source_SEO                                  60445 non-null uint8\n",
            "browser_FireFox                             60445 non-null uint8\n",
            "browser_IE                                  60445 non-null uint8\n",
            "browser_Opera                               60445 non-null uint8\n",
            "browser_Safari                              60445 non-null uint8\n",
            "sex_M                                       60445 non-null uint8\n",
            "categorical_age_25-30 yo                    60445 non-null uint8\n",
            "categorical_age_30-35 yo                    60445 non-null uint8\n",
            "categorical_age_35-50 yo                    60445 non-null uint8\n",
            "categorical_age_50-65 yo                    60445 non-null uint8\n",
            "categorical_age_65-80 yo                    60445 non-null uint8\n",
            "client_quality_gold                         60445 non-null uint8\n",
            "client_quality_premium                      60445 non-null uint8\n",
            "client_quality_silver                       60445 non-null uint8\n",
            "worldwide_zone_American country             60445 non-null uint8\n",
            "worldwide_zone_Asian-Middle East country    60445 non-null uint8\n",
            "worldwide_zone_European country             60445 non-null uint8\n",
            "worldwide_zone_Other country                60445 non-null uint8\n",
            "worldwide_zone_Pays inconnu                 60445 non-null uint8\n",
            "dtypes: float64(1), int64(2), uint8(20)\n",
            "memory usage: 3.0 MB\n"
          ],
          "name": "stdout"
        }
      ]
    },
    {
      "cell_type": "code",
      "metadata": {
        "id": "fnxoToO4aEMK",
        "colab_type": "code",
        "colab": {}
      },
      "source": [
        "#Vérification des corrélations entre les différentes variables et surtout avec le résultat du jeu difficile à prédire.\n",
        "check_corr=pd.merge(X_train1, y_train, right_index=True, left_index=True)"
      ],
      "execution_count": 0,
      "outputs": []
    },
    {
      "cell_type": "code",
      "metadata": {
        "id": "mc3pDDvpZyWg",
        "colab_type": "code",
        "outputId": "790f9b37-8fe7-43bf-a9b8-e55f3d5609c1",
        "colab": {
          "base_uri": "https://localhost:8080/",
          "height": 1000
        }
      },
      "source": [
        "colormap = plt.cm.RdBu\n",
        "plt.figure(figsize=(20,20))\n",
        "plt.title('Pearson Correlation of Features', y=1.05, size=12)\n",
        "sns.heatmap(check_corr.astype(float).corr(),linewidths=0.1,vmax=1.0, \n",
        "            square=True, cmap=colormap, linecolor='white', annot=True)"
      ],
      "execution_count": 0,
      "outputs": [
        {
          "output_type": "execute_result",
          "data": {
            "text/plain": [
              "<matplotlib.axes._subplots.AxesSubplot at 0x7f60ae55ceb8>"
            ]
          },
          "metadata": {
            "tags": []
          },
          "execution_count": 34
        },
        {
          "output_type": "display_data",
          "data": {
            "image/png": "[encoded data removed]",
            "text/plain": [
              "<Figure size 1440x1440 with 2 Axes>"
            ]
          },
          "metadata": {
            "tags": []
          }
        }
      ]
    },
    {
      "cell_type": "markdown",
      "metadata": {
        "id": "mlw1LovRbYyR",
        "colab_type": "text"
      },
      "source": [
        "Corrélations fortes de la variable cible résultat avec les variables frequent_user, categorical_time, client_quality."
      ]
    },
    {
      "cell_type": "markdown",
      "metadata": {
        "id": "zgeefVB8SAvc",
        "colab_type": "text"
      },
      "source": [
        "Random Forest"
      ]
    },
    {
      "cell_type": "code",
      "metadata": {
        "id": "VLkH4J6aKq6I",
        "colab_type": "code",
        "outputId": "8bc3a1a8-94e1-4bb6-ddad-935388fccb1e",
        "colab": {
          "base_uri": "https://localhost:8080/",
          "height": 50
        }
      },
      "source": [
        "#Random forest\n",
        "from sklearn.ensemble import RandomForestClassifier\n",
        "RFC = RandomForestClassifier( n_estimators=50,      # nombre d'arbres generes et testes\n",
        "                              max_depth=10,         # nombre maximum de niveaux par arbre\n",
        "                              random_state=40,      # permet de \"fixer\" la maniere dont l'aleatoire est genere\n",
        "                              min_samples_leaf= 10,\n",
        "                              class_weight='balanced') \n",
        "rfc=RFC.fit(X_train, y_train)\n",
        "\n",
        "#Evaluation du modèle\n",
        "print(\"score train: \", RFC.score(X_train, y_train))\n",
        "print(\"score test : \", RFC.score(X_test, y_test)) "
      ],
      "execution_count": 0,
      "outputs": [
        {
          "output_type": "stream",
          "text": [
            "score train:  0.9569687895507449\n",
            "score test :  0.9559606921880687\n"
          ],
          "name": "stdout"
        }
      ]
    },
    {
      "cell_type": "code",
      "metadata": {
        "id": "R9miiF2Oc7u-",
        "colab_type": "code",
        "outputId": "97580a64-e45f-4d67-91cb-b792575076e1",
        "colab": {
          "base_uri": "https://localhost:8080/",
          "height": 33
        }
      },
      "source": [
        "# k-folds cross validation pour appuyer ce score \n",
        "from sklearn.model_selection import cross_val_score\n",
        "scores=cross_val_score(rfc,X_test, y_test, cv=10).mean()\n",
        "print(\"Moyenne cross-validation score: {}\".format(scores))"
      ],
      "execution_count": 0,
      "outputs": [
        {
          "output_type": "stream",
          "text": [
            "Moyenne cross-validation score: 0.9569533313206733\n"
          ],
          "name": "stdout"
        }
      ]
    },
    {
      "cell_type": "code",
      "metadata": {
        "id": "1Nv7TJUU_egk",
        "colab_type": "code",
        "colab": {}
      },
      "source": [
        "#prédiction pour les valeurs de X_test\n",
        "y_pred = rfc.predict(X_test)"
      ],
      "execution_count": 0,
      "outputs": []
    },
    {
      "cell_type": "code",
      "metadata": {
        "id": "jD7ko1Bl_eZe",
        "colab_type": "code",
        "outputId": "84b5f6b7-9857-4a7c-8454-06814d55ea9d",
        "colab": {
          "base_uri": "https://localhost:8080/",
          "height": 281
        }
      },
      "source": [
        "#Matrice de confusion\n",
        "from sklearn.metrics import confusion_matrix\n",
        "cm=confusion_matrix(y_test, y_pred)\n",
        "sns.heatmap(cm, annot=True,fmt=\"d\")"
      ],
      "execution_count": 0,
      "outputs": [
        {
          "output_type": "execute_result",
          "data": {
            "text/plain": [
              "<matplotlib.axes._subplots.AxesSubplot at 0x7f3f0d52c7f0>"
            ]
          },
          "metadata": {
            "tags": []
          },
          "execution_count": 87
        },
        {
          "output_type": "display_data",
          "data": {
            "image/png": "[encoded data removed]",
            "text/plain": [
              "<Figure size 432x288 with 2 Axes>"
            ]
          },
          "metadata": {
            "tags": []
          }
        }
      ]
    },
    {
      "cell_type": "code",
      "metadata": {
        "id": "QU8w5dzhY_c0",
        "colab_type": "code",
        "outputId": "7b4be3c1-078f-43b2-9e6e-44beb53c1d27",
        "colab": {
          "base_uri": "https://localhost:8080/",
          "height": 281
        }
      },
      "source": [
        "cm1 = confusion_matrix(y_test, y_pred, normalize=\"true\")\n",
        "sns.heatmap(cm1, annot=True, square=True, fmt=\".2f\")"
      ],
      "execution_count": 0,
      "outputs": [
        {
          "output_type": "execute_result",
          "data": {
            "text/plain": [
              "<matplotlib.axes._subplots.AxesSubplot at 0x7f3f0d492780>"
            ]
          },
          "metadata": {
            "tags": []
          },
          "execution_count": 88
        },
        {
          "output_type": "display_data",
          "data": {
            "image/png": "[encoded data removed]",
            "text/plain": [
              "<Figure size 432x288 with 2 Axes>"
            ]
          },
          "metadata": {
            "tags": []
          }
        }
      ]
    },
    {
      "cell_type": "code",
      "metadata": {
        "id": "u7jwib3vAvqs",
        "colab_type": "code",
        "outputId": "ee8fcd36-757a-4783-9831-6b937ed4ffb7",
        "colab": {
          "base_uri": "https://localhost:8080/",
          "height": 163
        }
      },
      "source": [
        "from sklearn.metrics import classification_report\n",
        "print(classification_report(y_true=y_test, y_pred=y_pred))"
      ],
      "execution_count": 0,
      "outputs": [
        {
          "output_type": "stream",
          "text": [
            "              precision    recall  f1-score   support\n",
            "\n",
            "           0       0.96      1.00      0.98     27351\n",
            "           1       0.95      0.58      0.72      2872\n",
            "\n",
            "    accuracy                           0.96     30223\n",
            "   macro avg       0.95      0.79      0.85     30223\n",
            "weighted avg       0.96      0.96      0.95     30223\n",
            "\n"
          ],
          "name": "stdout"
        }
      ]
    },
    {
      "cell_type": "markdown",
      "metadata": {
        "id": "gA4J-dbniHiY",
        "colab_type": "text"
      },
      "source": [
        "95.8% de bonnes prédictions sur le nombre total d'observations."
      ]
    },
    {
      "cell_type": "code",
      "metadata": {
        "id": "iYJlqKpP26JZ",
        "colab_type": "code",
        "outputId": "6c229608-a1f7-4ff3-f779-e9c6e0a64d41",
        "colab": {
          "base_uri": "https://localhost:8080/",
          "height": 50
        }
      },
      "source": [
        "# DummyClassifier pour prédire uniquement cible 0\n",
        "from sklearn.metrics import accuracy_score\n",
        "from sklearn.dummy import DummyClassifier\n",
        "dummy = DummyClassifier(strategy='most_frequent').fit(X_train, y_train)\n",
        "dummy_pred = dummy.predict(X_test)\n",
        "\n",
        "# checking unique labels\n",
        "print('Unique predicted labels: ', (np.unique(dummy_pred)))\n",
        "\n",
        "# checking accuracy\n",
        "print('Test score: ', accuracy_score(y_test, dummy_pred))"
      ],
      "execution_count": 0,
      "outputs": [
        {
          "output_type": "stream",
          "text": [
            "Unique predicted labels:  [0]\n",
            "Test score:  0.9049730337822188\n"
          ],
          "name": "stdout"
        }
      ]
    },
    {
      "cell_type": "markdown",
      "metadata": {
        "id": "WQ4e1a8RBEB7",
        "colab_type": "text"
      },
      "source": [
        "L'accuracy score en faisant l'hypothèse que tous les achats ne sont pas des fraudes est de 90.64%. Le modèle fait mieux que la base line."
      ]
    },
    {
      "cell_type": "code",
      "metadata": {
        "id": "dO_iw8jWVikE",
        "colab_type": "code",
        "outputId": "0080ca76-665b-4c39-9f86-f80344ab831a",
        "colab": {
          "base_uri": "https://localhost:8080/",
          "height": 50
        }
      },
      "source": [
        "#Proportion prédite de fraudes TP prédites sur le jeu de test\n",
        "p1=cm[1,1]/(len(y_pred))\n",
        "print(\"proportion de TP (fraudes bien prédites) dans le jeu de test: {}\" .format(p1))\n",
        "#Proportion de fraudes FN non prédites sur le jeu de test\n",
        "p2=cm[1,0]/len(y_pred)\n",
        "print('proportion de FN (fraudes non prédites) dans le jeu de test: {}' .format(p2))"
      ],
      "execution_count": 0,
      "outputs": [
        {
          "output_type": "stream",
          "text": [
            "proportion de TP (fraudes bien prédites) dans le jeu de test: 0.05492505707573702\n",
            "proportion de FN (fraudes non prédites) dans le jeu de test: 0.04010190914204414\n"
          ],
          "name": "stdout"
        }
      ]
    },
    {
      "cell_type": "markdown",
      "metadata": {
        "id": "eCLO-nJT2G2q",
        "colab_type": "text"
      },
      "source": [
        "La proportion de fraudes effectives mais qui n'ont pas été prédites s'avérent très importantes. Il faut améliorer le modèle pour diminuer la part des FN. \n"
      ]
    },
    {
      "cell_type": "code",
      "metadata": {
        "id": "gnIDuMMbchKi",
        "colab_type": "code",
        "outputId": "181e60bc-156b-4ad2-cc75-d4f0c1c42351",
        "colab": {
          "base_uri": "https://localhost:8080/",
          "height": 70
        }
      },
      "source": [
        "# Calcul de la valeur moyenne de la proportion de fraudes avec 99% de degrés de confiance\n",
        "import math\n",
        "#Effectif total de la population\n",
        "N=len(dataset)-1\n",
        "\n",
        "# calcul de la moyenne et de l'écart type de la proportion de fraudes de la population\n",
        "mean_Pf=y.mean()\n",
        "stdev=y.std()\n",
        "\n",
        "# Intervalle de confiance fixé (3.09 pour 99.8%)\n",
        "confidence=99/100\n",
        "\n",
        "# Z correspondant\n",
        "Z=2.58\n",
        "\n",
        "# Calcul de l'intervalle de confiance de la moyenne de la proportion des fraudes de la population\n",
        "demi_amp_inter=Z*mean_Pf*math.sqrt((mean_Pf*(1-mean_Pf)/N))\n",
        "\n",
        "print(\"La moyenne de proportion de fraudes est de {}$ +/- {}$\" .format(round(mean_Pf,4),round(demi_amp_inter,4)))"
      ],
      "execution_count": 0,
      "outputs": [
        {
          "output_type": "stream",
          "text": [
            "La moyenne de proportion de fraudes est de resultat    0.0936\n",
            "dtype: float64$ +/- resultat    0.0002\n",
            "dtype: float64$\n"
          ],
          "name": "stdout"
        }
      ]
    },
    {
      "cell_type": "code",
      "metadata": {
        "id": "6qSr7PkuAvcv",
        "colab_type": "code",
        "outputId": "e9bcf0b0-6cb9-46e7-d13e-141764a7b46f",
        "colab": {
          "base_uri": "https://localhost:8080/",
          "height": 385
        }
      },
      "source": [
        "# On confirme les paramètres qui jouent un rôle important. ici la purchase_value se manifeste. \n",
        "feature_importance = pd.DataFrame({\"features\": X_train.columns[:], \"score\": np.abs(RFC.feature_importances_)}).sort_values(by=\"score\", ascending=False)\n",
        "sns.catplot(x=\"score\",y=\"features\", data=feature_importance, kind=\"bar\" )"
      ],
      "execution_count": 0,
      "outputs": [
        {
          "output_type": "execute_result",
          "data": {
            "text/plain": [
              "<seaborn.axisgrid.FacetGrid at 0x7f52e74877b8>"
            ]
          },
          "metadata": {
            "tags": []
          },
          "execution_count": 11
        },
        {
          "output_type": "display_data",
          "data": {
            "image/png": "[encoded data removed]",
            "text/plain": [
              "<Figure size 360x360 with 1 Axes>"
            ]
          },
          "metadata": {
            "tags": []
          }
        }
      ]
    },
    {
      "cell_type": "markdown",
      "metadata": {
        "id": "-TWU-0QpU_nf",
        "colab_type": "text"
      },
      "source": [
        "On peut constater que les variables créées sont particulièrement appréciées du modèle. La variable **frequent_user**, qui témoigne d'achats récurrents par un même device_id, est le feature le plus important. Suivi de la variable **client_quality_premium** qui témoigne d'un certain montant cumulé dans l'historique des achats par un même device_id. La variable **purchase_value** est aussi utile.\n",
        "Le **genre**, le **browser** et les variables créées **worldwide_zone** ou **categorical_age** n'ont pas d'importance.  Nous laisserons donc de côté ces features dans la construction des modèles finaux."
      ]
    },
    {
      "cell_type": "code",
      "metadata": {
        "id": "aaN4bEPMKq2A",
        "colab_type": "code",
        "colab": {}
      },
      "source": [
        "#Nous faisons une GridSearch pour optimiser le modèle\n",
        "from sklearn.model_selection import GridSearchCV\n",
        "\n",
        "RFC = RandomForestClassifier()\n",
        "params = {'max_depth' : np.arange(1,10,5),\n",
        "         'min_samples_leaf' : [10, 20],\n",
        "         'n_estimators' : range(20,50)}\n",
        "\n",
        "grid =  GridSearchCV(estimator=RFC, param_grid= params, cv = 10)\n",
        "grid.fit(X_train, y_train)"
      ],
      "execution_count": 0,
      "outputs": []
    },
    {
      "cell_type": "code",
      "metadata": {
        "id": "VhkSUmCP69Sf",
        "colab_type": "code",
        "outputId": "8d5e5407-856b-437a-cd16-fc37f4040537",
        "colab": {
          "base_uri": "https://localhost:8080/",
          "height": 34
        }
      },
      "source": [
        "print(grid.best_params_)"
      ],
      "execution_count": 0,
      "outputs": [
        {
          "output_type": "stream",
          "text": [
            "{'max_depth': 6, 'min_samples_leaf': 10, 'n_estimators': 28}\n"
          ],
          "name": "stdout"
        }
      ]
    },
    {
      "cell_type": "code",
      "metadata": {
        "id": "1HQefwkx69MQ",
        "colab_type": "code",
        "outputId": "9a6fb00b-c831-45f9-f79f-1e05e7052f5b",
        "colab": {
          "base_uri": "https://localhost:8080/",
          "height": 34
        }
      },
      "source": [
        "model = grid.best_estimator_\n",
        "model.score(X_test, y_test)"
      ],
      "execution_count": 0,
      "outputs": [
        {
          "output_type": "execute_result",
          "data": {
            "text/plain": [
              "0.9568540515501439"
            ]
          },
          "metadata": {
            "tags": []
          },
          "execution_count": 33
        }
      ]
    },
    {
      "cell_type": "markdown",
      "metadata": {
        "colab_type": "text",
        "id": "Sru2LZzMheJS"
      },
      "source": [
        "Adaboost"
      ]
    },
    {
      "cell_type": "code",
      "metadata": {
        "id": "urxCZpK0R9z8",
        "colab_type": "code",
        "colab": {}
      },
      "source": [
        "AdaBoostClassifier?"
      ],
      "execution_count": 0,
      "outputs": []
    },
    {
      "cell_type": "code",
      "metadata": {
        "colab_type": "code",
        "id": "GfuZTuwDheJX",
        "outputId": "71538ea5-28eb-46ec-97b6-19df2b0361f2",
        "colab": {
          "base_uri": "https://localhost:8080/",
          "height": 34
        }
      },
      "source": [
        "#on va entraîner le modèle pour le faire passer de weak learner à strong learner\n",
        "from sklearn.ensemble import AdaBoostClassifier\n",
        "\n",
        "#classifier_ada = AdaBoostClassifier()\n",
        "classifier_ada = AdaBoostClassifier(base_estimator=model)\n",
        "\n",
        "classifier_ada.fit(X_train, y_train)\n",
        "classifier_ada.score(X_test, y_test)"
      ],
      "execution_count": 0,
      "outputs": [
        {
          "output_type": "execute_result",
          "data": {
            "text/plain": [
              "0.9573503623068524"
            ]
          },
          "metadata": {
            "tags": []
          },
          "execution_count": 34
        }
      ]
    },
    {
      "cell_type": "markdown",
      "metadata": {
        "id": "dJhEVBgrkQR3",
        "colab_type": "text"
      },
      "source": [
        "XGBoost"
      ]
    },
    {
      "cell_type": "code",
      "metadata": {
        "id": "RXIu1OYEJXt5",
        "colab_type": "code",
        "colab": {}
      },
      "source": [
        "XGBClassifier?"
      ],
      "execution_count": 0,
      "outputs": []
    },
    {
      "cell_type": "code",
      "metadata": {
        "id": "BOgvu8jcj9wS",
        "colab_type": "code",
        "outputId": "54044085-8d9a-4631-de71-746924e118b0",
        "colab": {
          "base_uri": "https://localhost:8080/",
          "height": 34
        }
      },
      "source": [
        "from xgboost import XGBClassifier\n",
        "classifier_xgb = XGBClassifier(booster='gbtree',learning_rate=0.5, n_estimators=50)\n",
        "classifier_xgb.fit(X_train, y_train)\n",
        "classifier_xgb.score(X_test, y_test)"
      ],
      "execution_count": 0,
      "outputs": [
        {
          "output_type": "execute_result",
          "data": {
            "text/plain": [
              "0.9574165370744135"
            ]
          },
          "metadata": {
            "tags": []
          },
          "execution_count": 36
        }
      ]
    },
    {
      "cell_type": "markdown",
      "metadata": {
        "id": "QSswCMjy0Elu",
        "colab_type": "text"
      },
      "source": [
        "La méthode de boosting XGBoost donne sensiblement les meilleurs résultats.\n",
        "\n",
        "\n"
      ]
    },
    {
      "cell_type": "code",
      "metadata": {
        "id": "IJlfCbw2m_Jg",
        "colab_type": "code",
        "colab": {}
      },
      "source": [
        "#On va faire une GridSearch pour optimiser le modèle\n",
        "from sklearn.model_selection import GridSearchCV\n",
        "classifier_xgb2 = XGBClassifier(booster='gbtree')\n",
        "parameters = {'n_estimators':[20 , 30, 50],\n",
        "              \"learning_rate\":[0.5, 0.3, 0.1]}"
      ],
      "execution_count": 0,
      "outputs": []
    },
    {
      "cell_type": "code",
      "metadata": {
        "id": "YZzrl0rp-ZSX",
        "colab_type": "code",
        "outputId": "4b9f3d25-7013-48c5-ad42-028a12c48490",
        "colab": {
          "base_uri": "https://localhost:8080/",
          "height": 301
        }
      },
      "source": [
        "grid_xgb = GridSearchCV(classifier_xgb2, parameters)\n",
        "grid_xgb.fit(X_train, y_train)"
      ],
      "execution_count": 0,
      "outputs": [
        {
          "output_type": "execute_result",
          "data": {
            "text/plain": [
              "GridSearchCV(cv=None, error_score=nan,\n",
              "             estimator=XGBClassifier(base_score=0.5, booster='gbtree',\n",
              "                                     colsample_bylevel=1, colsample_bynode=1,\n",
              "                                     colsample_bytree=1, gamma=0,\n",
              "                                     learning_rate=0.1, max_delta_step=0,\n",
              "                                     max_depth=3, min_child_weight=1,\n",
              "                                     missing=None, n_estimators=100, n_jobs=1,\n",
              "                                     nthread=None, objective='binary:logistic',\n",
              "                                     random_state=0, reg_alpha=0, reg_lambda=1,\n",
              "                                     scale_pos_weight=1, seed=None, silent=None,\n",
              "                                     subsample=1, verbosity=1),\n",
              "             iid='deprecated', n_jobs=None,\n",
              "             param_grid={'learning_rate': [0.5, 0.3, 0.1],\n",
              "                         'n_estimators': [20, 30, 50]},\n",
              "             pre_dispatch='2*n_jobs', refit=True, return_train_score=False,\n",
              "             scoring=None, verbose=0)"
            ]
          },
          "metadata": {
            "tags": []
          },
          "execution_count": 43
        }
      ]
    },
    {
      "cell_type": "code",
      "metadata": {
        "id": "ZHGTjKFqm_Ba",
        "colab_type": "code",
        "outputId": "e5a898f2-8510-41f3-8705-18fbc293720b",
        "colab": {
          "base_uri": "https://localhost:8080/",
          "height": 34
        }
      },
      "source": [
        "print(grid_xgb.best_params_)"
      ],
      "execution_count": 0,
      "outputs": [
        {
          "output_type": "stream",
          "text": [
            "{'learning_rate': 0.5, 'n_estimators': 20}\n"
          ],
          "name": "stdout"
        }
      ]
    },
    {
      "cell_type": "code",
      "metadata": {
        "id": "tAq4WcoKunT8",
        "colab_type": "code",
        "outputId": "347398ca-7874-4666-f20b-33e0f040fa19",
        "colab": {
          "base_uri": "https://localhost:8080/",
          "height": 34
        }
      },
      "source": [
        "model = grid_xgb.best_estimator_\n",
        "model.score(X_test, y_test)"
      ],
      "execution_count": 0,
      "outputs": [
        {
          "output_type": "execute_result",
          "data": {
            "text/plain": [
              "0.9575157992257552"
            ]
          },
          "metadata": {
            "tags": []
          },
          "execution_count": 45
        }
      ]
    },
    {
      "cell_type": "markdown",
      "metadata": {
        "id": "GorXn1Quk9s9",
        "colab_type": "text"
      },
      "source": [
        "Logistic Regression"
      ]
    },
    {
      "cell_type": "code",
      "metadata": {
        "id": "tx4YsYO2lCRy",
        "colab_type": "code",
        "outputId": "222a06c0-f59c-4e16-fa48-c6f1b82b5ffa",
        "colab": {
          "base_uri": "https://localhost:8080/",
          "height": 98
        }
      },
      "source": [
        "from sklearn.linear_model import LogisticRegression as LR\n",
        "lr = LR(class_weight=\"balanced\")\n",
        "lr.fit(X_train, y_train)"
      ],
      "execution_count": 0,
      "outputs": [
        {
          "output_type": "execute_result",
          "data": {
            "text/plain": [
              "LogisticRegression(C=1.0, class_weight='balanced', dual=False,\n",
              "                   fit_intercept=True, intercept_scaling=1, l1_ratio=None,\n",
              "                   max_iter=100, multi_class='auto', n_jobs=None, penalty='l2',\n",
              "                   random_state=None, solver='lbfgs', tol=0.0001, verbose=0,\n",
              "                   warm_start=False)"
            ]
          },
          "metadata": {
            "tags": []
          },
          "execution_count": 13
        }
      ]
    },
    {
      "cell_type": "code",
      "metadata": {
        "id": "sNgEo-kNlCKi",
        "colab_type": "code",
        "colab": {}
      },
      "source": [
        "#Evaluation du modèle\n",
        "print(\"score train: \", lr.score(X_train, y_train))\n",
        "print(\"score test : \", lr.score(X_test, y_test)) "
      ],
      "execution_count": 0,
      "outputs": []
    },
    {
      "cell_type": "code",
      "metadata": {
        "id": "xpWccyeolm1N",
        "colab_type": "code",
        "outputId": "7a069d71-f722-4de2-c7be-fdce5d19151a",
        "colab": {
          "base_uri": "https://localhost:8080/",
          "height": 34
        }
      },
      "source": [
        "# k-folds cross validation pour appuyer ce score \n",
        "from sklearn.model_selection import cross_val_score\n",
        "scores=cross_val_score(lr,X_test, y_test, cv=10).mean()\n",
        "print(\"Moyenne cross-validation score: {}\".format(scores))"
      ],
      "execution_count": 0,
      "outputs": [
        {
          "output_type": "stream",
          "text": [
            "Moyenne cross-validation score: 0.9531153501513764\n"
          ],
          "name": "stdout"
        }
      ]
    },
    {
      "cell_type": "code",
      "metadata": {
        "id": "Od9UVqSslmsw",
        "colab_type": "code",
        "colab": {}
      },
      "source": [
        "#prédiction pour les valeurs de X_test\n",
        "y_pred = lr.predict(X_test)"
      ],
      "execution_count": 0,
      "outputs": []
    },
    {
      "cell_type": "code",
      "metadata": {
        "colab_type": "code",
        "outputId": "17f49595-de1b-4aab-fc76-605af2e1ae5a",
        "id": "GZooUeDYmBSV",
        "colab": {
          "base_uri": "https://localhost:8080/",
          "height": 282
        }
      },
      "source": [
        "#Matrice de confusion\n",
        "from sklearn.metrics import confusion_matrix\n",
        "cm5=confusion_matrix(y_test, y_pred)\n",
        "sns.heatmap(cm5, annot=True,fmt=\"d\")"
      ],
      "execution_count": 0,
      "outputs": [
        {
          "output_type": "execute_result",
          "data": {
            "text/plain": [
              "<matplotlib.axes._subplots.AxesSubplot at 0x7feb543f2668>"
            ]
          },
          "metadata": {
            "tags": []
          },
          "execution_count": 49
        },
        {
          "output_type": "display_data",
          "data": {
            "image/png": "[encoded data removed]",
            "text/plain": [
              "<Figure size 432x288 with 2 Axes>"
            ]
          },
          "metadata": {
            "tags": []
          }
        }
      ]
    },
    {
      "cell_type": "code",
      "metadata": {
        "colab_type": "code",
        "outputId": "51e1becb-40c0-4e2a-ede5-0a688405233d",
        "id": "Pm96CoSDmBSo",
        "colab": {
          "base_uri": "https://localhost:8080/",
          "height": 282
        }
      },
      "source": [
        "cm6 = confusion_matrix(y_test, y_pred, normalize=\"true\")\n",
        "sns.heatmap(cm6, annot=True, square=True, fmt=\".2f\")"
      ],
      "execution_count": 0,
      "outputs": [
        {
          "output_type": "execute_result",
          "data": {
            "text/plain": [
              "<matplotlib.axes._subplots.AxesSubplot at 0x7f82aab55b00>"
            ]
          },
          "metadata": {
            "tags": []
          },
          "execution_count": 15
        },
        {
          "output_type": "display_data",
          "data": {
            "image/png": "[encoded data removed]",
            "text/plain": [
              "<Figure size 432x288 with 2 Axes>"
            ]
          },
          "metadata": {
            "tags": []
          }
        }
      ]
    },
    {
      "cell_type": "code",
      "metadata": {
        "colab_type": "code",
        "outputId": "661a5083-7d79-416a-bf90-1481788dbaab",
        "id": "DEPaAnz1mBSt",
        "colab": {
          "base_uri": "https://localhost:8080/",
          "height": 176
        }
      },
      "source": [
        "from sklearn.metrics import classification_report\n",
        "print(classification_report(y_true=y_test, y_pred=y_pred))"
      ],
      "execution_count": 0,
      "outputs": [
        {
          "output_type": "stream",
          "text": [
            "              precision    recall  f1-score   support\n",
            "\n",
            "           0       0.96      1.00      0.98     27365\n",
            "           1       0.96      0.58      0.72      2858\n",
            "\n",
            "    accuracy                           0.96     30223\n",
            "   macro avg       0.96      0.79      0.85     30223\n",
            "weighted avg       0.96      0.96      0.95     30223\n",
            "\n"
          ],
          "name": "stdout"
        }
      ]
    },
    {
      "cell_type": "markdown",
      "metadata": {
        "colab_type": "text",
        "id": "hlO9xwuVmBS0"
      },
      "source": [
        "95.8% de bonnes prédictions sur le nombre total d'observations."
      ]
    },
    {
      "cell_type": "markdown",
      "metadata": {
        "id": "ps_CZh-yZ2ES",
        "colab_type": "text"
      },
      "source": [
        "Support Vector Machine"
      ]
    },
    {
      "cell_type": "code",
      "metadata": {
        "id": "a7Q7h5EsY0J2",
        "colab_type": "code",
        "colab": {}
      },
      "source": [
        "#Support Vector Machine \n",
        "from sklearn.svm import SVC\n",
        "svm = SVC(kernel='linear', class_weight='balanced')"
      ],
      "execution_count": 0,
      "outputs": []
    },
    {
      "cell_type": "code",
      "metadata": {
        "id": "eNSTsW77Y0Gd",
        "colab_type": "code",
        "colab": {}
      },
      "source": [
        "#Données train et test splittées et normalisées au-dessus"
      ],
      "execution_count": 0,
      "outputs": []
    },
    {
      "cell_type": "code",
      "metadata": {
        "id": "v96PpOqGYz3h",
        "colab_type": "code",
        "outputId": "57a00b4e-67cd-4232-e468-32d0606195e0",
        "colab": {
          "base_uri": "https://localhost:8080/",
          "height": 123
        }
      },
      "source": [
        "#Fitting des données de train et score\n",
        "%time svm.fit(X_train, y_train)"
      ],
      "execution_count": 0,
      "outputs": [
        {
          "output_type": "stream",
          "text": [
            "CPU times: user 4min 48s, sys: 1.06 s, total: 4min 49s\n",
            "Wall time: 4min 50s\n"
          ],
          "name": "stdout"
        },
        {
          "output_type": "execute_result",
          "data": {
            "text/plain": [
              "SVC(C=1.0, break_ties=False, cache_size=200, class_weight='balanced', coef0=0.0,\n",
              "    decision_function_shape='ovr', degree=3, gamma='scale', kernel='linear',\n",
              "    max_iter=-1, probability=False, random_state=None, shrinking=True,\n",
              "    tol=0.001, verbose=False)"
            ]
          },
          "metadata": {
            "tags": []
          },
          "execution_count": 18
        }
      ]
    },
    {
      "cell_type": "code",
      "metadata": {
        "id": "6AaJKhzhZbWf",
        "colab_type": "code",
        "outputId": "1e372ced-d167-4998-c61a-7ce9b9962dc4",
        "colab": {
          "base_uri": "https://localhost:8080/",
          "height": 70
        }
      },
      "source": [
        "%time svm.score(X_test, y_test)"
      ],
      "execution_count": 0,
      "outputs": [
        {
          "output_type": "stream",
          "text": [
            "CPU times: user 28.4 s, sys: 177 ms, total: 28.6 s\n",
            "Wall time: 28.6 s\n"
          ],
          "name": "stdout"
        },
        {
          "output_type": "execute_result",
          "data": {
            "text/plain": [
              "0.9547364589881878"
            ]
          },
          "metadata": {
            "tags": []
          },
          "execution_count": 19
        }
      ]
    },
    {
      "cell_type": "markdown",
      "metadata": {
        "id": "idJs64nm0wyC",
        "colab_type": "text"
      },
      "source": [
        "Accuracy sensiblement meilleure pour le modèle SVC que le RFC"
      ]
    },
    {
      "cell_type": "markdown",
      "metadata": {
        "id": "23twbce93dx6",
        "colab_type": "text"
      },
      "source": [
        "Représentation de la courbe ROC (modèle RF) sur le jeu train global"
      ]
    },
    {
      "cell_type": "code",
      "metadata": {
        "id": "HVdBz1Sj0_gp",
        "colab_type": "code",
        "outputId": "3d194bf4-c8c4-4bdf-9494-8228aab0c006",
        "colab": {
          "base_uri": "https://localhost:8080/",
          "height": 295
        }
      },
      "source": [
        "from sklearn.metrics import roc_auc_score\n",
        "from sklearn.metrics import roc_curve\n",
        "rf_roc_auc = roc_auc_score(y_test, RFC.predict(X_test))\n",
        "fpr, tpr, thresholds = roc_curve(y_test, RFC.predict_proba(X_test)[:,1])\n",
        "plt.figure()\n",
        "plt.plot(fpr, tpr, label='Random forest (area = %0.2f)' % rf_roc_auc)\n",
        "plt.plot([0, 1], [0, 1],'r--')\n",
        "plt.xlim([-0.05, 1.05])\n",
        "plt.ylim([-0.05, 1.05])\n",
        "plt.xlabel('False Positive Rate')\n",
        "plt.ylabel('True Positive Rate')\n",
        "plt.title('Random forest model')\n",
        "plt.legend(loc=\"lower right\")\n",
        "plt.savefig('rfc_ROC')\n",
        "plt.show()"
      ],
      "execution_count": 0,
      "outputs": [
        {
          "output_type": "display_data",
          "data": {
            "image/png": "[encoded data removed]",
            "text/plain": [
              "<Figure size 432x288 with 1 Axes>"
            ]
          },
          "metadata": {
            "tags": []
          }
        }
      ]
    },
    {
      "cell_type": "markdown",
      "metadata": {
        "id": "NXa1X0YeNz61",
        "colab_type": "text"
      },
      "source": [
        "Représentation de la courbe ROC sur le jeu train1"
      ]
    },
    {
      "cell_type": "code",
      "metadata": {
        "id": "7x_O-9eNva9e",
        "colab_type": "code",
        "colab": {}
      },
      "source": [
        "rfc2=RFC.fit(X_train1, y_train1)"
      ],
      "execution_count": 0,
      "outputs": []
    },
    {
      "cell_type": "code",
      "metadata": {
        "id": "dVjVjLBHwabQ",
        "colab_type": "code",
        "colab": {}
      },
      "source": [
        "from sklearn.metrics import roc_curve, roc_auc_score\n",
        "fpr, tpr, thresholds = roc_curve(y_train1,\n",
        "                                rfc2.predict_proba(X_train1)[:,1])\n",
        "roc_auc = roc_auc_score(y_train1, rfc2.predict_proba(X_train1)[:,1])"
      ],
      "execution_count": 0,
      "outputs": []
    },
    {
      "cell_type": "code",
      "metadata": {
        "id": "ihG4Ag1ozomz",
        "colab_type": "code",
        "outputId": "2e6feb79-be46-4b67-9f44-de10337a5c62",
        "colab": {
          "base_uri": "https://localhost:8080/",
          "height": 33
        }
      },
      "source": [
        "roc_auc"
      ],
      "execution_count": 0,
      "outputs": [
        {
          "output_type": "execute_result",
          "data": {
            "text/plain": [
              "0.8646129200025987"
            ]
          },
          "metadata": {
            "tags": []
          },
          "execution_count": 98
        }
      ]
    },
    {
      "cell_type": "code",
      "metadata": {
        "id": "P-iZFdJ1wQ0G",
        "colab_type": "code",
        "outputId": "010c12f4-c507-4ac8-b2df-4a37f357c628",
        "colab": {
          "base_uri": "https://localhost:8080/",
          "height": 295
        }
      },
      "source": [
        "plt.figure()\n",
        "lw = 2\n",
        "plt.plot(fpr, tpr, color='darkorange',\n",
        "         lw=lw, label='ROC curve (area = %0.2f)' % roc_auc)\n",
        "plt.plot([0, 1], [0, 1], color='navy', lw=lw, linestyle='--')\n",
        "plt.xlim([0.0, 1.0])\n",
        "plt.ylim([0.0, 1.05])\n",
        "plt.xlabel('False Positive Rate')\n",
        "plt.ylabel('True Positive Rate')\n",
        "plt.title('Random forest model')\n",
        "plt.legend(loc=\"lower right\")\n",
        "plt.show()"
      ],
      "execution_count": 0,
      "outputs": [
        {
          "output_type": "display_data",
          "data": {
            "image/png": "[encoded data removed]",
            "text/plain": [
              "<Figure size 432x288 with 1 Axes>"
            ]
          },
          "metadata": {
            "tags": []
          }
        }
      ]
    },
    {
      "cell_type": "code",
      "metadata": {
        "id": "rQgmHFT0zu9j",
        "colab_type": "code",
        "colab": {}
      },
      "source": [
        "roc = pd.DataFrame({\"tpr\":tpr,\n",
        "                    \"fpr\":fpr,\n",
        "                    \"threshold\":thresholds})\n",
        "pd.options.display.max_rows = 999\n",
        "roc_zoom = roc[((roc.tpr>0.8) & (roc.tpr<1))]"
      ],
      "execution_count": 0,
      "outputs": []
    },
    {
      "cell_type": "code",
      "metadata": {
        "id": "NtyQ3jCc8DYz",
        "colab_type": "code",
        "outputId": "c0b5228d-fe6e-4302-dc10-1d6b659fbc56",
        "colab": {
          "base_uri": "https://localhost:8080/",
          "height": 311
        }
      },
      "source": [
        "#zoom sur le point de changement de pente\n",
        "plt.figure()\n",
        "lw = 2\n",
        "plt.plot(roc_zoom.fpr, roc_zoom.tpr, color='darkorange',\n",
        "         lw=lw)\n",
        "plt.plot([roc_zoom.tpr.min(), roc_zoom.tpr.max()],\n",
        "         [roc_zoom.fpr.min(), roc_zoom.fpr.max()],\n",
        "         color='navy', lw=lw, linestyle='--')\n",
        "plt.xlim([roc_zoom.fpr.min(), roc_zoom.fpr.max()])\n",
        "plt.ylim([roc_zoom.tpr.min(), roc_zoom.tpr.max()])\n",
        "plt.xlabel('False Positive Rate')\n",
        "plt.ylabel('True Positive Rate')\n",
        "plt.title('Random forest model')\n",
        "plt.legend(loc=\"lower right\")\n",
        "plt.show()"
      ],
      "execution_count": 0,
      "outputs": [
        {
          "output_type": "stream",
          "text": [
            "No handles with labels found to put in legend.\n"
          ],
          "name": "stderr"
        },
        {
          "output_type": "display_data",
          "data": {
            "image/png": "[encoded data removed]",
            "text/plain": [
              "<Figure size 432x288 with 1 Axes>"
            ]
          },
          "metadata": {
            "tags": []
          }
        }
      ]
    },
    {
      "cell_type": "code",
      "metadata": {
        "id": "XMHt1rqi6c0C",
        "colab_type": "code",
        "colab": {}
      },
      "source": [
        "roc_zoom"
      ],
      "execution_count": 0,
      "outputs": []
    },
    {
      "cell_type": "markdown",
      "metadata": {
        "id": "3tuBlUx6OsNa",
        "colab_type": "text"
      },
      "source": [
        "Représentation de la courbe ROC sur le jeu train2"
      ]
    },
    {
      "cell_type": "code",
      "metadata": {
        "id": "zrefC1cRdNxy",
        "colab_type": "code",
        "colab": {}
      },
      "source": [
        "rfc3=RFC.fit(X_train2, y_train2)"
      ],
      "execution_count": 0,
      "outputs": []
    },
    {
      "cell_type": "code",
      "metadata": {
        "id": "c8pkVaJK6zlC",
        "colab_type": "code",
        "colab": {}
      },
      "source": [
        "X_train2[\"proba\"] = rfc3.predict_proba(X_train2)[:,1]"
      ],
      "execution_count": 0,
      "outputs": []
    },
    {
      "cell_type": "code",
      "metadata": {
        "id": "9dpa2rq9-ceQ",
        "colab_type": "code",
        "colab": {}
      },
      "source": [
        "X_train2_easy = X_train2[X_train2.proba > 0.9]\n",
        "X_train2_hard = X_train2[X_train2.proba <= 0.9]"
      ],
      "execution_count": 0,
      "outputs": []
    },
    {
      "cell_type": "code",
      "metadata": {
        "id": "gSYZdzFaQfhX",
        "colab_type": "code",
        "outputId": "10645c44-1c2c-4b42-aacd-8fb66cf4ee12",
        "colab": {
          "base_uri": "https://localhost:8080/",
          "height": 515
        }
      },
      "source": [
        "X_train2_hard.head(15)"
      ],
      "execution_count": 0,
      "outputs": [
        {
          "output_type": "execute_result",
          "data": {
            "text/html": [
              "<div>\n",
              "<style scoped>\n",
              "    .dataframe tbody tr th:only-of-type {\n",
              "        vertical-align: middle;\n",
              "    }\n",
              "\n",
              "    .dataframe tbody tr th {\n",
              "        vertical-align: top;\n",
              "    }\n",
              "\n",
              "    .dataframe thead th {\n",
              "        text-align: right;\n",
              "    }\n",
              "</style>\n",
              "<table border=\"1\" class=\"dataframe\">\n",
              "  <thead>\n",
              "    <tr style=\"text-align: right;\">\n",
              "      <th></th>\n",
              "      <th>purchase_value</th>\n",
              "      <th>frequent_user</th>\n",
              "      <th>categorical_time</th>\n",
              "      <th>source_Direct</th>\n",
              "      <th>source_SEO</th>\n",
              "      <th>browser_FireFox</th>\n",
              "      <th>browser_IE</th>\n",
              "      <th>browser_Opera</th>\n",
              "      <th>browser_Safari</th>\n",
              "      <th>sex_M</th>\n",
              "      <th>categorical_age_25-30 yo</th>\n",
              "      <th>categorical_age_30-35 yo</th>\n",
              "      <th>categorical_age_35-50 yo</th>\n",
              "      <th>categorical_age_50-65 yo</th>\n",
              "      <th>categorical_age_65-80 yo</th>\n",
              "      <th>client_quality_gold</th>\n",
              "      <th>client_quality_premium</th>\n",
              "      <th>client_quality_silver</th>\n",
              "      <th>worldwide_zone_American country</th>\n",
              "      <th>worldwide_zone_Asian-Middle East country</th>\n",
              "      <th>worldwide_zone_European country</th>\n",
              "      <th>worldwide_zone_Other country</th>\n",
              "      <th>worldwide_zone_Pays inconnu</th>\n",
              "      <th>proba</th>\n",
              "    </tr>\n",
              "  </thead>\n",
              "  <tbody>\n",
              "    <tr>\n",
              "      <th>47523</th>\n",
              "      <td>0.002813</td>\n",
              "      <td>0</td>\n",
              "      <td>0</td>\n",
              "      <td>0</td>\n",
              "      <td>0</td>\n",
              "      <td>1</td>\n",
              "      <td>0</td>\n",
              "      <td>0</td>\n",
              "      <td>0</td>\n",
              "      <td>0</td>\n",
              "      <td>0</td>\n",
              "      <td>1</td>\n",
              "      <td>0</td>\n",
              "      <td>0</td>\n",
              "      <td>0</td>\n",
              "      <td>0</td>\n",
              "      <td>0</td>\n",
              "      <td>0</td>\n",
              "      <td>0</td>\n",
              "      <td>0</td>\n",
              "      <td>1</td>\n",
              "      <td>0</td>\n",
              "      <td>0</td>\n",
              "      <td>0.300588</td>\n",
              "    </tr>\n",
              "    <tr>\n",
              "      <th>96468</th>\n",
              "      <td>-1.087908</td>\n",
              "      <td>0</td>\n",
              "      <td>4</td>\n",
              "      <td>0</td>\n",
              "      <td>1</td>\n",
              "      <td>0</td>\n",
              "      <td>0</td>\n",
              "      <td>0</td>\n",
              "      <td>1</td>\n",
              "      <td>1</td>\n",
              "      <td>0</td>\n",
              "      <td>1</td>\n",
              "      <td>0</td>\n",
              "      <td>0</td>\n",
              "      <td>0</td>\n",
              "      <td>0</td>\n",
              "      <td>0</td>\n",
              "      <td>0</td>\n",
              "      <td>0</td>\n",
              "      <td>0</td>\n",
              "      <td>1</td>\n",
              "      <td>0</td>\n",
              "      <td>0</td>\n",
              "      <td>0.297334</td>\n",
              "    </tr>\n",
              "    <tr>\n",
              "      <th>7212</th>\n",
              "      <td>0.820854</td>\n",
              "      <td>0</td>\n",
              "      <td>1</td>\n",
              "      <td>0</td>\n",
              "      <td>1</td>\n",
              "      <td>0</td>\n",
              "      <td>1</td>\n",
              "      <td>0</td>\n",
              "      <td>0</td>\n",
              "      <td>1</td>\n",
              "      <td>0</td>\n",
              "      <td>1</td>\n",
              "      <td>0</td>\n",
              "      <td>0</td>\n",
              "      <td>0</td>\n",
              "      <td>0</td>\n",
              "      <td>0</td>\n",
              "      <td>0</td>\n",
              "      <td>1</td>\n",
              "      <td>0</td>\n",
              "      <td>0</td>\n",
              "      <td>0</td>\n",
              "      <td>0</td>\n",
              "      <td>0.299407</td>\n",
              "    </tr>\n",
              "    <tr>\n",
              "      <th>96966</th>\n",
              "      <td>0.657246</td>\n",
              "      <td>0</td>\n",
              "      <td>0</td>\n",
              "      <td>0</td>\n",
              "      <td>0</td>\n",
              "      <td>0</td>\n",
              "      <td>0</td>\n",
              "      <td>0</td>\n",
              "      <td>0</td>\n",
              "      <td>0</td>\n",
              "      <td>0</td>\n",
              "      <td>1</td>\n",
              "      <td>0</td>\n",
              "      <td>0</td>\n",
              "      <td>0</td>\n",
              "      <td>0</td>\n",
              "      <td>0</td>\n",
              "      <td>0</td>\n",
              "      <td>0</td>\n",
              "      <td>0</td>\n",
              "      <td>0</td>\n",
              "      <td>0</td>\n",
              "      <td>0</td>\n",
              "      <td>0.301868</td>\n",
              "    </tr>\n",
              "    <tr>\n",
              "      <th>39928</th>\n",
              "      <td>0.602710</td>\n",
              "      <td>0</td>\n",
              "      <td>2</td>\n",
              "      <td>0</td>\n",
              "      <td>1</td>\n",
              "      <td>0</td>\n",
              "      <td>1</td>\n",
              "      <td>0</td>\n",
              "      <td>0</td>\n",
              "      <td>0</td>\n",
              "      <td>0</td>\n",
              "      <td>0</td>\n",
              "      <td>0</td>\n",
              "      <td>0</td>\n",
              "      <td>0</td>\n",
              "      <td>0</td>\n",
              "      <td>0</td>\n",
              "      <td>0</td>\n",
              "      <td>1</td>\n",
              "      <td>0</td>\n",
              "      <td>0</td>\n",
              "      <td>0</td>\n",
              "      <td>0</td>\n",
              "      <td>0.287575</td>\n",
              "    </tr>\n",
              "    <tr>\n",
              "      <th>144195</th>\n",
              "      <td>-1.469661</td>\n",
              "      <td>0</td>\n",
              "      <td>0</td>\n",
              "      <td>0</td>\n",
              "      <td>1</td>\n",
              "      <td>0</td>\n",
              "      <td>0</td>\n",
              "      <td>0</td>\n",
              "      <td>0</td>\n",
              "      <td>1</td>\n",
              "      <td>0</td>\n",
              "      <td>0</td>\n",
              "      <td>1</td>\n",
              "      <td>0</td>\n",
              "      <td>0</td>\n",
              "      <td>0</td>\n",
              "      <td>0</td>\n",
              "      <td>0</td>\n",
              "      <td>0</td>\n",
              "      <td>0</td>\n",
              "      <td>0</td>\n",
              "      <td>0</td>\n",
              "      <td>1</td>\n",
              "      <td>0.255736</td>\n",
              "    </tr>\n",
              "    <tr>\n",
              "      <th>17014</th>\n",
              "      <td>2.456937</td>\n",
              "      <td>0</td>\n",
              "      <td>2</td>\n",
              "      <td>0</td>\n",
              "      <td>0</td>\n",
              "      <td>0</td>\n",
              "      <td>0</td>\n",
              "      <td>0</td>\n",
              "      <td>0</td>\n",
              "      <td>1</td>\n",
              "      <td>0</td>\n",
              "      <td>0</td>\n",
              "      <td>1</td>\n",
              "      <td>0</td>\n",
              "      <td>0</td>\n",
              "      <td>0</td>\n",
              "      <td>0</td>\n",
              "      <td>0</td>\n",
              "      <td>0</td>\n",
              "      <td>0</td>\n",
              "      <td>0</td>\n",
              "      <td>1</td>\n",
              "      <td>0</td>\n",
              "      <td>0.223798</td>\n",
              "    </tr>\n",
              "    <tr>\n",
              "      <th>54109</th>\n",
              "      <td>-1.415125</td>\n",
              "      <td>0</td>\n",
              "      <td>3</td>\n",
              "      <td>0</td>\n",
              "      <td>0</td>\n",
              "      <td>0</td>\n",
              "      <td>1</td>\n",
              "      <td>0</td>\n",
              "      <td>0</td>\n",
              "      <td>0</td>\n",
              "      <td>0</td>\n",
              "      <td>0</td>\n",
              "      <td>0</td>\n",
              "      <td>0</td>\n",
              "      <td>0</td>\n",
              "      <td>0</td>\n",
              "      <td>0</td>\n",
              "      <td>0</td>\n",
              "      <td>0</td>\n",
              "      <td>0</td>\n",
              "      <td>1</td>\n",
              "      <td>0</td>\n",
              "      <td>0</td>\n",
              "      <td>0.289449</td>\n",
              "    </tr>\n",
              "    <tr>\n",
              "      <th>5427</th>\n",
              "      <td>0.984463</td>\n",
              "      <td>0</td>\n",
              "      <td>2</td>\n",
              "      <td>0</td>\n",
              "      <td>1</td>\n",
              "      <td>0</td>\n",
              "      <td>1</td>\n",
              "      <td>0</td>\n",
              "      <td>0</td>\n",
              "      <td>0</td>\n",
              "      <td>0</td>\n",
              "      <td>0</td>\n",
              "      <td>1</td>\n",
              "      <td>0</td>\n",
              "      <td>0</td>\n",
              "      <td>0</td>\n",
              "      <td>0</td>\n",
              "      <td>0</td>\n",
              "      <td>1</td>\n",
              "      <td>0</td>\n",
              "      <td>0</td>\n",
              "      <td>0</td>\n",
              "      <td>0</td>\n",
              "      <td>0.303109</td>\n",
              "    </tr>\n",
              "    <tr>\n",
              "      <th>40916</th>\n",
              "      <td>-0.869764</td>\n",
              "      <td>0</td>\n",
              "      <td>0</td>\n",
              "      <td>0</td>\n",
              "      <td>1</td>\n",
              "      <td>0</td>\n",
              "      <td>0</td>\n",
              "      <td>0</td>\n",
              "      <td>0</td>\n",
              "      <td>1</td>\n",
              "      <td>0</td>\n",
              "      <td>0</td>\n",
              "      <td>1</td>\n",
              "      <td>0</td>\n",
              "      <td>0</td>\n",
              "      <td>0</td>\n",
              "      <td>0</td>\n",
              "      <td>0</td>\n",
              "      <td>1</td>\n",
              "      <td>0</td>\n",
              "      <td>0</td>\n",
              "      <td>0</td>\n",
              "      <td>0</td>\n",
              "      <td>0.320332</td>\n",
              "    </tr>\n",
              "    <tr>\n",
              "      <th>22237</th>\n",
              "      <td>0.057349</td>\n",
              "      <td>0</td>\n",
              "      <td>3</td>\n",
              "      <td>0</td>\n",
              "      <td>0</td>\n",
              "      <td>0</td>\n",
              "      <td>0</td>\n",
              "      <td>0</td>\n",
              "      <td>0</td>\n",
              "      <td>0</td>\n",
              "      <td>0</td>\n",
              "      <td>1</td>\n",
              "      <td>0</td>\n",
              "      <td>0</td>\n",
              "      <td>0</td>\n",
              "      <td>0</td>\n",
              "      <td>0</td>\n",
              "      <td>0</td>\n",
              "      <td>0</td>\n",
              "      <td>1</td>\n",
              "      <td>0</td>\n",
              "      <td>0</td>\n",
              "      <td>0</td>\n",
              "      <td>0.267022</td>\n",
              "    </tr>\n",
              "    <tr>\n",
              "      <th>133729</th>\n",
              "      <td>-0.924300</td>\n",
              "      <td>0</td>\n",
              "      <td>1</td>\n",
              "      <td>0</td>\n",
              "      <td>0</td>\n",
              "      <td>0</td>\n",
              "      <td>0</td>\n",
              "      <td>0</td>\n",
              "      <td>0</td>\n",
              "      <td>1</td>\n",
              "      <td>0</td>\n",
              "      <td>0</td>\n",
              "      <td>0</td>\n",
              "      <td>1</td>\n",
              "      <td>0</td>\n",
              "      <td>0</td>\n",
              "      <td>0</td>\n",
              "      <td>0</td>\n",
              "      <td>0</td>\n",
              "      <td>0</td>\n",
              "      <td>0</td>\n",
              "      <td>0</td>\n",
              "      <td>1</td>\n",
              "      <td>0.269435</td>\n",
              "    </tr>\n",
              "    <tr>\n",
              "      <th>3622</th>\n",
              "      <td>-0.215331</td>\n",
              "      <td>0</td>\n",
              "      <td>3</td>\n",
              "      <td>1</td>\n",
              "      <td>0</td>\n",
              "      <td>0</td>\n",
              "      <td>0</td>\n",
              "      <td>0</td>\n",
              "      <td>0</td>\n",
              "      <td>1</td>\n",
              "      <td>0</td>\n",
              "      <td>1</td>\n",
              "      <td>0</td>\n",
              "      <td>0</td>\n",
              "      <td>0</td>\n",
              "      <td>0</td>\n",
              "      <td>0</td>\n",
              "      <td>0</td>\n",
              "      <td>0</td>\n",
              "      <td>0</td>\n",
              "      <td>1</td>\n",
              "      <td>0</td>\n",
              "      <td>0</td>\n",
              "      <td>0.301356</td>\n",
              "    </tr>\n",
              "    <tr>\n",
              "      <th>114238</th>\n",
              "      <td>0.057349</td>\n",
              "      <td>0</td>\n",
              "      <td>4</td>\n",
              "      <td>1</td>\n",
              "      <td>0</td>\n",
              "      <td>0</td>\n",
              "      <td>0</td>\n",
              "      <td>0</td>\n",
              "      <td>0</td>\n",
              "      <td>0</td>\n",
              "      <td>0</td>\n",
              "      <td>0</td>\n",
              "      <td>1</td>\n",
              "      <td>0</td>\n",
              "      <td>0</td>\n",
              "      <td>0</td>\n",
              "      <td>0</td>\n",
              "      <td>0</td>\n",
              "      <td>0</td>\n",
              "      <td>0</td>\n",
              "      <td>1</td>\n",
              "      <td>0</td>\n",
              "      <td>0</td>\n",
              "      <td>0.303874</td>\n",
              "    </tr>\n",
              "    <tr>\n",
              "      <th>95405</th>\n",
              "      <td>-0.215331</td>\n",
              "      <td>0</td>\n",
              "      <td>2</td>\n",
              "      <td>0</td>\n",
              "      <td>0</td>\n",
              "      <td>0</td>\n",
              "      <td>0</td>\n",
              "      <td>0</td>\n",
              "      <td>1</td>\n",
              "      <td>1</td>\n",
              "      <td>0</td>\n",
              "      <td>0</td>\n",
              "      <td>0</td>\n",
              "      <td>0</td>\n",
              "      <td>0</td>\n",
              "      <td>0</td>\n",
              "      <td>0</td>\n",
              "      <td>0</td>\n",
              "      <td>1</td>\n",
              "      <td>0</td>\n",
              "      <td>0</td>\n",
              "      <td>0</td>\n",
              "      <td>0</td>\n",
              "      <td>0.296667</td>\n",
              "    </tr>\n",
              "  </tbody>\n",
              "</table>\n",
              "</div>"
            ],
            "text/plain": [
              "        purchase_value  frequent_user  ...  worldwide_zone_Pays inconnu     proba\n",
              "47523         0.002813              0  ...                            0  0.300588\n",
              "96468        -1.087908              0  ...                            0  0.297334\n",
              "7212          0.820854              0  ...                            0  0.299407\n",
              "96966         0.657246              0  ...                            0  0.301868\n",
              "39928         0.602710              0  ...                            0  0.287575\n",
              "144195       -1.469661              0  ...                            1  0.255736\n",
              "17014         2.456937              0  ...                            0  0.223798\n",
              "54109        -1.415125              0  ...                            0  0.289449\n",
              "5427          0.984463              0  ...                            0  0.303109\n",
              "40916        -0.869764              0  ...                            0  0.320332\n",
              "22237         0.057349              0  ...                            0  0.267022\n",
              "133729       -0.924300              0  ...                            1  0.269435\n",
              "3622         -0.215331              0  ...                            0  0.301356\n",
              "114238        0.057349              0  ...                            0  0.303874\n",
              "95405        -0.215331              0  ...                            0  0.296667\n",
              "\n",
              "[15 rows x 24 columns]"
            ]
          },
          "metadata": {
            "tags": []
          },
          "execution_count": 20
        }
      ]
    },
    {
      "cell_type": "code",
      "metadata": {
        "id": "36Ejcm99W1ie",
        "colab_type": "code",
        "colab": {}
      },
      "source": [
        "full_hard= pd.merge(X_train2_hard, X_train, right_index=True, left_index=True)"
      ],
      "execution_count": 0,
      "outputs": []
    },
    {
      "cell_type": "code",
      "metadata": {
        "id": "GAhBja50X6v7",
        "colab_type": "code",
        "outputId": "7adbf6c4-788b-48d3-eb54-42c70574dd65",
        "colab": {
          "base_uri": "https://localhost:8080/",
          "height": 227
        }
      },
      "source": [
        "full_hard.head()"
      ],
      "execution_count": 0,
      "outputs": [
        {
          "output_type": "execute_result",
          "data": {
            "text/html": [
              "<div>\n",
              "<style scoped>\n",
              "    .dataframe tbody tr th:only-of-type {\n",
              "        vertical-align: middle;\n",
              "    }\n",
              "\n",
              "    .dataframe tbody tr th {\n",
              "        vertical-align: top;\n",
              "    }\n",
              "\n",
              "    .dataframe thead th {\n",
              "        text-align: right;\n",
              "    }\n",
              "</style>\n",
              "<table border=\"1\" class=\"dataframe\">\n",
              "  <thead>\n",
              "    <tr style=\"text-align: right;\">\n",
              "      <th></th>\n",
              "      <th>purchase_value_x</th>\n",
              "      <th>frequent_user_x</th>\n",
              "      <th>categorical_time_x</th>\n",
              "      <th>source_Direct_x</th>\n",
              "      <th>source_SEO_x</th>\n",
              "      <th>browser_FireFox_x</th>\n",
              "      <th>browser_IE_x</th>\n",
              "      <th>browser_Opera_x</th>\n",
              "      <th>browser_Safari_x</th>\n",
              "      <th>sex_M_x</th>\n",
              "      <th>categorical_age_25-30 yo_x</th>\n",
              "      <th>categorical_age_30-35 yo_x</th>\n",
              "      <th>categorical_age_35-50 yo_x</th>\n",
              "      <th>categorical_age_50-65 yo_x</th>\n",
              "      <th>categorical_age_65-80 yo_x</th>\n",
              "      <th>client_quality_gold_x</th>\n",
              "      <th>client_quality_premium_x</th>\n",
              "      <th>client_quality_silver_x</th>\n",
              "      <th>worldwide_zone_American country_x</th>\n",
              "      <th>worldwide_zone_Asian-Middle East country_x</th>\n",
              "      <th>worldwide_zone_European country_x</th>\n",
              "      <th>worldwide_zone_Other country_x</th>\n",
              "      <th>worldwide_zone_Pays inconnu_x</th>\n",
              "      <th>proba</th>\n",
              "      <th>purchase_value_y</th>\n",
              "      <th>frequent_user_y</th>\n",
              "      <th>categorical_time_y</th>\n",
              "      <th>source_Direct_y</th>\n",
              "      <th>source_SEO_y</th>\n",
              "      <th>browser_FireFox_y</th>\n",
              "      <th>browser_IE_y</th>\n",
              "      <th>browser_Opera_y</th>\n",
              "      <th>browser_Safari_y</th>\n",
              "      <th>sex_M_y</th>\n",
              "      <th>categorical_age_25-30 yo_y</th>\n",
              "      <th>categorical_age_30-35 yo_y</th>\n",
              "      <th>categorical_age_35-50 yo_y</th>\n",
              "      <th>categorical_age_50-65 yo_y</th>\n",
              "      <th>categorical_age_65-80 yo_y</th>\n",
              "      <th>client_quality_gold_y</th>\n",
              "      <th>client_quality_premium_y</th>\n",
              "      <th>client_quality_silver_y</th>\n",
              "      <th>worldwide_zone_American country_y</th>\n",
              "      <th>worldwide_zone_Asian-Middle East country_y</th>\n",
              "      <th>worldwide_zone_European country_y</th>\n",
              "      <th>worldwide_zone_Other country_y</th>\n",
              "      <th>worldwide_zone_Pays inconnu_y</th>\n",
              "    </tr>\n",
              "  </thead>\n",
              "  <tbody>\n",
              "    <tr>\n",
              "      <th>97011</th>\n",
              "      <td>0.111781</td>\n",
              "      <td>0</td>\n",
              "      <td>2</td>\n",
              "      <td>1</td>\n",
              "      <td>0</td>\n",
              "      <td>0</td>\n",
              "      <td>1</td>\n",
              "      <td>0</td>\n",
              "      <td>0</td>\n",
              "      <td>1</td>\n",
              "      <td>0</td>\n",
              "      <td>0</td>\n",
              "      <td>1</td>\n",
              "      <td>0</td>\n",
              "      <td>0</td>\n",
              "      <td>0</td>\n",
              "      <td>0</td>\n",
              "      <td>0</td>\n",
              "      <td>1</td>\n",
              "      <td>0</td>\n",
              "      <td>0</td>\n",
              "      <td>0</td>\n",
              "      <td>0</td>\n",
              "      <td>0.346890</td>\n",
              "      <td>0.111781</td>\n",
              "      <td>0</td>\n",
              "      <td>2</td>\n",
              "      <td>1</td>\n",
              "      <td>0</td>\n",
              "      <td>0</td>\n",
              "      <td>1</td>\n",
              "      <td>0</td>\n",
              "      <td>0</td>\n",
              "      <td>1</td>\n",
              "      <td>0</td>\n",
              "      <td>0</td>\n",
              "      <td>1</td>\n",
              "      <td>0</td>\n",
              "      <td>0</td>\n",
              "      <td>0</td>\n",
              "      <td>0</td>\n",
              "      <td>0</td>\n",
              "      <td>1</td>\n",
              "      <td>0</td>\n",
              "      <td>0</td>\n",
              "      <td>0</td>\n",
              "      <td>0</td>\n",
              "    </tr>\n",
              "    <tr>\n",
              "      <th>39119</th>\n",
              "      <td>1.313171</td>\n",
              "      <td>0</td>\n",
              "      <td>2</td>\n",
              "      <td>0</td>\n",
              "      <td>0</td>\n",
              "      <td>0</td>\n",
              "      <td>0</td>\n",
              "      <td>0</td>\n",
              "      <td>1</td>\n",
              "      <td>1</td>\n",
              "      <td>0</td>\n",
              "      <td>0</td>\n",
              "      <td>0</td>\n",
              "      <td>0</td>\n",
              "      <td>0</td>\n",
              "      <td>0</td>\n",
              "      <td>0</td>\n",
              "      <td>0</td>\n",
              "      <td>1</td>\n",
              "      <td>0</td>\n",
              "      <td>0</td>\n",
              "      <td>0</td>\n",
              "      <td>0</td>\n",
              "      <td>0.300484</td>\n",
              "      <td>1.313171</td>\n",
              "      <td>0</td>\n",
              "      <td>2</td>\n",
              "      <td>0</td>\n",
              "      <td>0</td>\n",
              "      <td>0</td>\n",
              "      <td>0</td>\n",
              "      <td>0</td>\n",
              "      <td>1</td>\n",
              "      <td>1</td>\n",
              "      <td>0</td>\n",
              "      <td>0</td>\n",
              "      <td>0</td>\n",
              "      <td>0</td>\n",
              "      <td>0</td>\n",
              "      <td>0</td>\n",
              "      <td>0</td>\n",
              "      <td>0</td>\n",
              "      <td>1</td>\n",
              "      <td>0</td>\n",
              "      <td>0</td>\n",
              "      <td>0</td>\n",
              "      <td>0</td>\n",
              "    </tr>\n",
              "    <tr>\n",
              "      <th>17636</th>\n",
              "      <td>-0.816566</td>\n",
              "      <td>0</td>\n",
              "      <td>0</td>\n",
              "      <td>0</td>\n",
              "      <td>0</td>\n",
              "      <td>0</td>\n",
              "      <td>0</td>\n",
              "      <td>0</td>\n",
              "      <td>0</td>\n",
              "      <td>0</td>\n",
              "      <td>0</td>\n",
              "      <td>0</td>\n",
              "      <td>1</td>\n",
              "      <td>0</td>\n",
              "      <td>0</td>\n",
              "      <td>0</td>\n",
              "      <td>0</td>\n",
              "      <td>0</td>\n",
              "      <td>1</td>\n",
              "      <td>0</td>\n",
              "      <td>0</td>\n",
              "      <td>0</td>\n",
              "      <td>0</td>\n",
              "      <td>0.318316</td>\n",
              "      <td>-0.816566</td>\n",
              "      <td>0</td>\n",
              "      <td>0</td>\n",
              "      <td>0</td>\n",
              "      <td>0</td>\n",
              "      <td>0</td>\n",
              "      <td>0</td>\n",
              "      <td>0</td>\n",
              "      <td>0</td>\n",
              "      <td>0</td>\n",
              "      <td>0</td>\n",
              "      <td>0</td>\n",
              "      <td>1</td>\n",
              "      <td>0</td>\n",
              "      <td>0</td>\n",
              "      <td>0</td>\n",
              "      <td>0</td>\n",
              "      <td>0</td>\n",
              "      <td>1</td>\n",
              "      <td>0</td>\n",
              "      <td>0</td>\n",
              "      <td>0</td>\n",
              "      <td>0</td>\n",
              "    </tr>\n",
              "    <tr>\n",
              "      <th>61381</th>\n",
              "      <td>1.859258</td>\n",
              "      <td>0</td>\n",
              "      <td>4</td>\n",
              "      <td>0</td>\n",
              "      <td>1</td>\n",
              "      <td>0</td>\n",
              "      <td>1</td>\n",
              "      <td>0</td>\n",
              "      <td>0</td>\n",
              "      <td>1</td>\n",
              "      <td>0</td>\n",
              "      <td>0</td>\n",
              "      <td>0</td>\n",
              "      <td>0</td>\n",
              "      <td>0</td>\n",
              "      <td>0</td>\n",
              "      <td>0</td>\n",
              "      <td>0</td>\n",
              "      <td>1</td>\n",
              "      <td>0</td>\n",
              "      <td>0</td>\n",
              "      <td>0</td>\n",
              "      <td>0</td>\n",
              "      <td>0.288136</td>\n",
              "      <td>1.859258</td>\n",
              "      <td>0</td>\n",
              "      <td>4</td>\n",
              "      <td>0</td>\n",
              "      <td>1</td>\n",
              "      <td>0</td>\n",
              "      <td>1</td>\n",
              "      <td>0</td>\n",
              "      <td>0</td>\n",
              "      <td>1</td>\n",
              "      <td>0</td>\n",
              "      <td>0</td>\n",
              "      <td>0</td>\n",
              "      <td>0</td>\n",
              "      <td>0</td>\n",
              "      <td>0</td>\n",
              "      <td>0</td>\n",
              "      <td>0</td>\n",
              "      <td>1</td>\n",
              "      <td>0</td>\n",
              "      <td>0</td>\n",
              "      <td>0</td>\n",
              "      <td>0</td>\n",
              "    </tr>\n",
              "    <tr>\n",
              "      <th>22798</th>\n",
              "      <td>1.094737</td>\n",
              "      <td>0</td>\n",
              "      <td>3</td>\n",
              "      <td>1</td>\n",
              "      <td>0</td>\n",
              "      <td>0</td>\n",
              "      <td>0</td>\n",
              "      <td>0</td>\n",
              "      <td>0</td>\n",
              "      <td>1</td>\n",
              "      <td>0</td>\n",
              "      <td>0</td>\n",
              "      <td>1</td>\n",
              "      <td>0</td>\n",
              "      <td>0</td>\n",
              "      <td>0</td>\n",
              "      <td>0</td>\n",
              "      <td>0</td>\n",
              "      <td>0</td>\n",
              "      <td>0</td>\n",
              "      <td>1</td>\n",
              "      <td>0</td>\n",
              "      <td>0</td>\n",
              "      <td>0.304796</td>\n",
              "      <td>1.094737</td>\n",
              "      <td>0</td>\n",
              "      <td>3</td>\n",
              "      <td>1</td>\n",
              "      <td>0</td>\n",
              "      <td>0</td>\n",
              "      <td>0</td>\n",
              "      <td>0</td>\n",
              "      <td>0</td>\n",
              "      <td>1</td>\n",
              "      <td>0</td>\n",
              "      <td>0</td>\n",
              "      <td>1</td>\n",
              "      <td>0</td>\n",
              "      <td>0</td>\n",
              "      <td>0</td>\n",
              "      <td>0</td>\n",
              "      <td>0</td>\n",
              "      <td>0</td>\n",
              "      <td>0</td>\n",
              "      <td>1</td>\n",
              "      <td>0</td>\n",
              "      <td>0</td>\n",
              "    </tr>\n",
              "  </tbody>\n",
              "</table>\n",
              "</div>"
            ],
            "text/plain": [
              "       purchase_value_x  ...  worldwide_zone_Pays inconnu_y\n",
              "97011          0.111781  ...                              0\n",
              "39119          1.313171  ...                              0\n",
              "17636         -0.816566  ...                              0\n",
              "61381          1.859258  ...                              0\n",
              "22798          1.094737  ...                              0\n",
              "\n",
              "[5 rows x 47 columns]"
            ]
          },
          "metadata": {
            "tags": []
          },
          "execution_count": 38
        }
      ]
    },
    {
      "cell_type": "code",
      "metadata": {
        "id": "hntH-ToY-lge",
        "colab_type": "code",
        "colab": {}
      },
      "source": [
        "#on isole dans le jeu les fraudes faciles à prédire des fraudes difficiles à prédire.\n",
        "easy = pd.merge(X_train2_easy, y_train2, right_index=True, left_index=True)\n",
        "hard = pd.merge(X_train2_hard, y_train2, right_index=True, left_index=True )\n",
        "X_easy = easy.drop(\"resultat\", axis=1)\n",
        "X_hard = hard.drop(\"resultat\", axis=1)\n",
        "y_easy = easy[\"resultat\"]\n",
        "y_hard = hard[\"resultat\"]\n"
      ],
      "execution_count": 0,
      "outputs": []
    },
    {
      "cell_type": "code",
      "metadata": {
        "id": "BpDwXA-rAx4C",
        "colab_type": "code",
        "outputId": "0dada56f-9556-40ce-d9fb-c1424bc2ad63",
        "colab": {
          "base_uri": "https://localhost:8080/",
          "height": 147
        }
      },
      "source": [
        "#Fitting du modèle RFC\n",
        "RFC = RandomForestClassifier(  n_estimators=50,      # nombre d'arbres generes et testes\n",
        "#                               max_depth=10,         # nombre maximum de niveaux par arbre\n",
        "#                               random_state=40,      # permet de \"fixer\" la maniere dont l'aleatoire est genere\n",
        "#                               min_samples_leaf= 10,\n",
        "                               class_weight='balanced') \n",
        "model_easy = RFC\n",
        "model_hard = RFC\n",
        "\n",
        "model_easy.fit(X_easy, y_easy)\n",
        "model_hard.fit(X_hard, y_hard)"
      ],
      "execution_count": 0,
      "outputs": [
        {
          "output_type": "execute_result",
          "data": {
            "text/plain": [
              "RandomForestClassifier(bootstrap=True, ccp_alpha=0.0, class_weight='balanced',\n",
              "                       criterion='gini', max_depth=None, max_features='auto',\n",
              "                       max_leaf_nodes=None, max_samples=None,\n",
              "                       min_impurity_decrease=0.0, min_impurity_split=None,\n",
              "                       min_samples_leaf=1, min_samples_split=2,\n",
              "                       min_weight_fraction_leaf=0.0, n_estimators=50,\n",
              "                       n_jobs=None, oob_score=False, random_state=None,\n",
              "                       verbose=0, warm_start=False)"
            ]
          },
          "metadata": {
            "tags": []
          },
          "execution_count": 22
        }
      ]
    },
    {
      "cell_type": "code",
      "metadata": {
        "id": "iqrXT9IrBCWb",
        "colab_type": "code",
        "outputId": "eb7b563f-779b-47e5-f46b-4ecd43306401",
        "colab": {
          "base_uri": "https://localhost:8080/",
          "height": 295
        }
      },
      "source": [
        "#courbe roc relative au modèle RF appliqué aux fraudes faciles à prédire\n",
        "fpr_easy, tpr_easy, thresholds_easy = roc_curve(y_easy,\n",
        "                                 model_easy.predict_proba(X_easy)[:,1])\n",
        "roc_auc_easy = roc_auc_score(y_easy, model_easy.predict_proba(X_easy)[:,1])\n",
        "plt.figure()\n",
        "lw = 2\n",
        "plt.plot(fpr_easy, tpr_easy, color='darkorange',\n",
        "         lw=lw, label='ROC curve (area = %0.2f)' % roc_auc_easy)\n",
        "plt.plot([0, 1], [0, 1], color='navy', lw=lw, linestyle='--')\n",
        "plt.xlim([0.0, 1.0])\n",
        "plt.ylim([0.0, 1.05])\n",
        "plt.xlabel('False Positive Rate')\n",
        "plt.ylabel('True Positive Rate')\n",
        "plt.title('Random forest model (y_easy)')\n",
        "plt.legend(loc=\"lower right\")\n",
        "plt.show()"
      ],
      "execution_count": 0,
      "outputs": [
        {
          "output_type": "display_data",
          "data": {
            "image/png": "[encoded data removed]",
            "text/plain": [
              "<Figure size 432x288 with 1 Axes>"
            ]
          },
          "metadata": {
            "tags": []
          }
        }
      ]
    },
    {
      "cell_type": "code",
      "metadata": {
        "id": "zC09Gn_YB67u",
        "colab_type": "code",
        "outputId": "3fdd71e1-15ab-4f26-f18a-daf0651dd303",
        "colab": {
          "base_uri": "https://localhost:8080/",
          "height": 295
        }
      },
      "source": [
        "#courbe roc relative au modèle RF appliqué aux fraudes difficiles à prédire\n",
        "\n",
        "fpr_hard, tpr_hard, thresholds_hard = roc_curve(y_hard,\n",
        "                                 model_hard.predict_proba(X_hard)[:,1])\n",
        "roc_auc_hard = roc_auc_score(y_hard, model_hard.predict_proba(X_hard)[:,1])\n",
        "plt.figure()\n",
        "lw = 2\n",
        "plt.plot(fpr_hard, tpr_hard, color='darkorange',\n",
        "         lw=lw, label='ROC curve (area = %0.2f)' % roc_auc_hard)\n",
        "plt.plot([0, 1], [0, 1], color='navy', lw=lw, linestyle='--')\n",
        "plt.xlim([0.0, 1.0])\n",
        "plt.ylim([0.0, 1.05])\n",
        "plt.xlabel('False Positive Rate')\n",
        "plt.ylabel('True Positive Rate')\n",
        "plt.title('Random forest model (y_hard)')\n",
        "plt.legend(loc=\"lower right\")\n",
        "plt.show()"
      ],
      "execution_count": 0,
      "outputs": [
        {
          "output_type": "display_data",
          "data": {
            "image/png": "[encoded data removed]",
            "text/plain": [
              "<Figure size 432x288 with 1 Axes>"
            ]
          },
          "metadata": {
            "tags": []
          }
        }
      ]
    },
    {
      "cell_type": "code",
      "metadata": {
        "id": "x-rRJlSECxoQ",
        "colab_type": "code",
        "colab": {}
      },
      "source": [
        "y_hard.mean()"
      ],
      "execution_count": 0,
      "outputs": []
    },
    {
      "cell_type": "code",
      "metadata": {
        "id": "PNdV_gwn0ow_",
        "colab_type": "code",
        "colab": {}
      },
      "source": [
        "pd.read_"
      ],
      "execution_count": 0,
      "outputs": []
    },
    {
      "cell_type": "code",
      "metadata": {
        "id": "xxiiGRg5C6C2",
        "colab_type": "code",
        "outputId": "f5a43a7e-5ab4-402c-8b98-34db58884a76",
        "colab": {
          "base_uri": "https://localhost:8080/",
          "height": 34
        }
      },
      "source": [
        "y_easy.mean()"
      ],
      "execution_count": 0,
      "outputs": [
        {
          "output_type": "execute_result",
          "data": {
            "text/plain": [
              "0.8959517657192075"
            ]
          },
          "metadata": {
            "tags": []
          },
          "execution_count": 140
        }
      ]
    },
    {
      "cell_type": "code",
      "metadata": {
        "id": "yIYiRSX3_Mdo",
        "colab_type": "code",
        "colab": {}
      },
      "source": [
        "#Nous réduisons le nombre de variables explicatives à celles jugées importantes à l'issue du feature engineering plus haut.\n",
        "kept_labels=[\"frequent_user\",\"client_quality_gold\",\"client_quality_premium\",\"client_quality_silver\",\"categorical_time\",\"purchase_value\"]"
      ],
      "execution_count": 0,
      "outputs": []
    },
    {
      "cell_type": "code",
      "metadata": {
        "id": "e_wQUN___MXM",
        "colab_type": "code",
        "outputId": "522bd69f-1dd9-4082-e87d-c716ba9bd787",
        "colab": {
          "base_uri": "https://localhost:8080/",
          "height": 528
        }
      },
      "source": [
        "#Vérification des corrélations entre les différentes variables et surtout avec le résultat du jeu difficile à prédire.\n",
        "x_hard=X_hard[kept_labels]\n",
        "check_corr=pd.merge(x_hard, y_hard, right_index=True, left_index=True)\n",
        "\n",
        "colormap = plt.cm.RdBu\n",
        "plt.figure(figsize=(8,6))\n",
        "plt.title('Pearson Correlation of Features', y=1.05, size=12)\n",
        "sns.heatmap(check_corr.astype(float).corr(),linewidths=0.1,vmax=1.0, \n",
        "            square=True, cmap=colormap, linecolor='white', annot=True)"
      ],
      "execution_count": 0,
      "outputs": [
        {
          "output_type": "execute_result",
          "data": {
            "text/plain": [
              "<matplotlib.axes._subplots.AxesSubplot at 0x7f52dfa847f0>"
            ]
          },
          "metadata": {
            "tags": []
          },
          "execution_count": 27
        },
        {
          "output_type": "display_data",
          "data": {
            "image/png": "[encoded data removed]",
            "text/plain": [
              "<Figure size 576x432 with 2 Axes>"
            ]
          },
          "metadata": {
            "tags": []
          }
        }
      ]
    },
    {
      "cell_type": "markdown",
      "metadata": {
        "id": "tpqZcwWIe65W",
        "colab_type": "text"
      },
      "source": [
        "GENERATION DU MODELE FINAL : STACKING \n",
        "\n"
      ]
    },
    {
      "cell_type": "markdown",
      "metadata": {
        "id": "eumZUaD4qgCY",
        "colab_type": "text"
      },
      "source": [
        "Nous créons quatre objets x_train, x_test, y_train et y_test en vue d'entraîner nos modèles de la première couche. On séparé x_train et y_train en deux parties x_train1 y_train1 et x_train2 et y_train2. La première partie servira à entraîner les modèles de la première couche (ou base models) et la deuxième partie que l'on transformera grâce aux bases models servira à entraîner le modèle de la deuxième couche ou meta-model. Ceci permet d'assurer l'indépendance entre les données d'entraînement des deux couches et de limiter ainsi le sur-apprentissage.\n",
        "\n",
        "Les features sont maintenant restreintes à celles ayant montré de l'importance lors du premier résultat obtenu par le modèle RFC."
      ]
    },
    {
      "cell_type": "code",
      "metadata": {
        "id": "cw4DOMRLmbgy",
        "colab_type": "code",
        "colab": {}
      },
      "source": [
        "X_train1_fin=X_train1[kept_labels]\n",
        "X_train2_fin=X_train2[kept_labels]\n",
        "y_train1_fin=y_train1\n",
        "y_train2_fin=y_train2\n",
        "X_test_fin=X_test[kept_labels]"
      ],
      "execution_count": 0,
      "outputs": []
    },
    {
      "cell_type": "markdown",
      "metadata": {
        "id": "akbcVtOdp9zZ",
        "colab_type": "text"
      },
      "source": [
        "Nous préparons un modèle de stacking. Les modèles de première couche seront un Random Forest Classifier et un XGBoost XGBClassifier. Le modèle de seconde couche une LogisticRegressor."
      ]
    },
    {
      "cell_type": "code",
      "metadata": {
        "id": "q62anZ_O-Ga9",
        "colab_type": "code",
        "colab": {}
      },
      "source": [
        "#Pairplots entre différentes variables explicatives\n",
        "\n",
        "g = sns.pairplot(check_corr[[u\"frequent_user\",u\"client_quality_gold\",u\"client_quality_premium\",u\"client_quality_silver\",u\"categorical_time\",u\"purchase_value\"]], palette = 'seismic',size=3,diag_kind = 'kde',diag_kws=dict(shade=True),plot_kws=dict(s=10) )\n",
        "g.set(xticklabels=[])"
      ],
      "execution_count": 0,
      "outputs": []
    },
    {
      "cell_type": "code",
      "metadata": {
        "id": "-53eVnEP_ZMe",
        "colab_type": "code",
        "colab": {}
      },
      "source": [
        "kept_labels=[\"frequent_user\",\"client_quality_gold\",\"client_quality_premium\",\"client_quality_silver\",\"categorical_time\",\"purchase_value\"]"
      ],
      "execution_count": 0,
      "outputs": []
    },
    {
      "cell_type": "code",
      "metadata": {
        "id": "IFbSioup-mw4",
        "colab_type": "code",
        "colab": {}
      },
      "source": [
        "#Nous préparons les modèles de la première couche de notre stacking\n",
        "from sklearn.ensemble import RandomForestClassifier\n",
        "rf = RandomForestClassifier(n_estimators=200, max_depth=6, max_features='sqrt')\n",
        "\n",
        "from xgboost import XGBClassifier\n",
        "xgb = XGBClassifier(booster='gbtree',learning_rate=0.5, n_estimators=200)"
      ],
      "execution_count": 0,
      "outputs": []
    },
    {
      "cell_type": "code",
      "metadata": {
        "id": "LGDsRSA4CYiv",
        "colab_type": "code",
        "outputId": "a89fd439-d262-41fe-b27d-11231dc97cab",
        "colab": {
          "base_uri": "https://localhost:8080/",
          "height": 33
        }
      },
      "source": [
        "rf.fit(X = X_train1_fin, y = y_train1_fin)\n",
        "xgb.fit(X = X_train1_fin, y = y_train1_fin)\n",
        "\n",
        "rf_train_pred = rf.predict_proba(X_train2_fin)\n",
        "xgb_train_pred = xgb.predict_proba(X_train2_fin)\n",
        "\n",
        "rf_test_pred = rf.predict_proba(X_test_fin)\n",
        "xgb_test_pred = xgb.predict_proba(X_test_fin)\n",
        "\n",
        "print(\"Training is complete\")"
      ],
      "execution_count": 0,
      "outputs": [
        {
          "output_type": "stream",
          "text": [
            "Training is complete\n"
          ],
          "name": "stdout"
        }
      ]
    },
    {
      "cell_type": "code",
      "metadata": {
        "id": "PJgAIv-wkc1y",
        "colab_type": "code",
        "colab": {}
      },
      "source": [
        "#création d'un dataframe contenant les feature_importance de chaque variable"
      ],
      "execution_count": 0,
      "outputs": []
    },
    {
      "cell_type": "code",
      "metadata": {
        "id": "7tS5i-q6no8N",
        "colab_type": "code",
        "colab": {}
      },
      "source": [
        "rf_feature = rf.feature_importances_\n",
        "xgb_feature = xgb.feature_importances_"
      ],
      "execution_count": 0,
      "outputs": []
    },
    {
      "cell_type": "code",
      "metadata": {
        "id": "4vrqIovDkkzb",
        "colab_type": "code",
        "outputId": "996e8c47-c2c7-4fd6-d4fe-867b74690361",
        "colab": {
          "base_uri": "https://localhost:8080/",
          "height": 220
        }
      },
      "source": [
        "# Create a dataframe with features\n",
        "feature_dataframe = pd.DataFrame({\n",
        "     \"features\": X_train1_fin.columns[:],\n",
        "     \"Score Random Forest\": np.abs(rf_feature),\n",
        "     \"Score XGB\": np.abs(xgb_feature)}).sort_values(by=\"Score Random Forest\", ascending=False)\n",
        "\n",
        "feature_dataframe"
      ],
      "execution_count": 0,
      "outputs": [
        {
          "output_type": "execute_result",
          "data": {
            "text/html": [
              "<div>\n",
              "<style scoped>\n",
              "    .dataframe tbody tr th:only-of-type {\n",
              "        vertical-align: middle;\n",
              "    }\n",
              "\n",
              "    .dataframe tbody tr th {\n",
              "        vertical-align: top;\n",
              "    }\n",
              "\n",
              "    .dataframe thead th {\n",
              "        text-align: right;\n",
              "    }\n",
              "</style>\n",
              "<table border=\"1\" class=\"dataframe\">\n",
              "  <thead>\n",
              "    <tr style=\"text-align: right;\">\n",
              "      <th></th>\n",
              "      <th>features</th>\n",
              "      <th>Score Random Forest</th>\n",
              "      <th>Score XGB</th>\n",
              "    </tr>\n",
              "  </thead>\n",
              "  <tbody>\n",
              "    <tr>\n",
              "      <th>0</th>\n",
              "      <td>frequent_user</td>\n",
              "      <td>0.502643</td>\n",
              "      <td>0.894297</td>\n",
              "    </tr>\n",
              "    <tr>\n",
              "      <th>2</th>\n",
              "      <td>client_quality_premium</td>\n",
              "      <td>0.302728</td>\n",
              "      <td>0.001475</td>\n",
              "    </tr>\n",
              "    <tr>\n",
              "      <th>4</th>\n",
              "      <td>categorical_time</td>\n",
              "      <td>0.100019</td>\n",
              "      <td>0.030210</td>\n",
              "    </tr>\n",
              "    <tr>\n",
              "      <th>3</th>\n",
              "      <td>client_quality_silver</td>\n",
              "      <td>0.058984</td>\n",
              "      <td>0.064631</td>\n",
              "    </tr>\n",
              "    <tr>\n",
              "      <th>1</th>\n",
              "      <td>client_quality_gold</td>\n",
              "      <td>0.029050</td>\n",
              "      <td>0.006869</td>\n",
              "    </tr>\n",
              "    <tr>\n",
              "      <th>5</th>\n",
              "      <td>purchase_value</td>\n",
              "      <td>0.006576</td>\n",
              "      <td>0.002519</td>\n",
              "    </tr>\n",
              "  </tbody>\n",
              "</table>\n",
              "</div>"
            ],
            "text/plain": [
              "                 features  Score Random Forest  Score XGB\n",
              "0           frequent_user             0.502643   0.894297\n",
              "2  client_quality_premium             0.302728   0.001475\n",
              "4        categorical_time             0.100019   0.030210\n",
              "3   client_quality_silver             0.058984   0.064631\n",
              "1     client_quality_gold             0.029050   0.006869\n",
              "5          purchase_value             0.006576   0.002519"
            ]
          },
          "metadata": {
            "tags": []
          },
          "execution_count": 40
        }
      ]
    },
    {
      "cell_type": "code",
      "metadata": {
        "id": "4FJtQMlUm5XY",
        "colab_type": "code",
        "outputId": "614b2c2a-b2ca-4a77-e016-7980fb77d658",
        "colab": {
          "base_uri": "https://localhost:8080/",
          "height": 220
        }
      },
      "source": [
        "#Création d'une nouvelle colonne contenant la moyenne des feature importance pour chaque variable\n",
        "\n",
        "feature_dataframe['Score Mean'] = feature_dataframe.mean(axis= 1) # axis = 1 computes the mean row-wise\n",
        "feature_dataframe.head(6)\n"
      ],
      "execution_count": 0,
      "outputs": [
        {
          "output_type": "execute_result",
          "data": {
            "text/html": [
              "<div>\n",
              "<style scoped>\n",
              "    .dataframe tbody tr th:only-of-type {\n",
              "        vertical-align: middle;\n",
              "    }\n",
              "\n",
              "    .dataframe tbody tr th {\n",
              "        vertical-align: top;\n",
              "    }\n",
              "\n",
              "    .dataframe thead th {\n",
              "        text-align: right;\n",
              "    }\n",
              "</style>\n",
              "<table border=\"1\" class=\"dataframe\">\n",
              "  <thead>\n",
              "    <tr style=\"text-align: right;\">\n",
              "      <th></th>\n",
              "      <th>features</th>\n",
              "      <th>Score Random Forest</th>\n",
              "      <th>Score XGB</th>\n",
              "      <th>Score Mean</th>\n",
              "    </tr>\n",
              "  </thead>\n",
              "  <tbody>\n",
              "    <tr>\n",
              "      <th>0</th>\n",
              "      <td>frequent_user</td>\n",
              "      <td>0.502643</td>\n",
              "      <td>0.894297</td>\n",
              "      <td>0.698470</td>\n",
              "    </tr>\n",
              "    <tr>\n",
              "      <th>2</th>\n",
              "      <td>client_quality_premium</td>\n",
              "      <td>0.302728</td>\n",
              "      <td>0.001475</td>\n",
              "      <td>0.152101</td>\n",
              "    </tr>\n",
              "    <tr>\n",
              "      <th>4</th>\n",
              "      <td>categorical_time</td>\n",
              "      <td>0.100019</td>\n",
              "      <td>0.030210</td>\n",
              "      <td>0.065115</td>\n",
              "    </tr>\n",
              "    <tr>\n",
              "      <th>3</th>\n",
              "      <td>client_quality_silver</td>\n",
              "      <td>0.058984</td>\n",
              "      <td>0.064631</td>\n",
              "      <td>0.061807</td>\n",
              "    </tr>\n",
              "    <tr>\n",
              "      <th>1</th>\n",
              "      <td>client_quality_gold</td>\n",
              "      <td>0.029050</td>\n",
              "      <td>0.006869</td>\n",
              "      <td>0.017960</td>\n",
              "    </tr>\n",
              "    <tr>\n",
              "      <th>5</th>\n",
              "      <td>purchase_value</td>\n",
              "      <td>0.006576</td>\n",
              "      <td>0.002519</td>\n",
              "      <td>0.004547</td>\n",
              "    </tr>\n",
              "  </tbody>\n",
              "</table>\n",
              "</div>"
            ],
            "text/plain": [
              "                 features  Score Random Forest  Score XGB  Score Mean\n",
              "0           frequent_user             0.502643   0.894297    0.698470\n",
              "2  client_quality_premium             0.302728   0.001475    0.152101\n",
              "4        categorical_time             0.100019   0.030210    0.065115\n",
              "3   client_quality_silver             0.058984   0.064631    0.061807\n",
              "1     client_quality_gold             0.029050   0.006869    0.017960\n",
              "5          purchase_value             0.006576   0.002519    0.004547"
            ]
          },
          "metadata": {
            "tags": []
          },
          "execution_count": 42
        }
      ]
    },
    {
      "cell_type": "code",
      "metadata": {
        "colab_type": "code",
        "outputId": "0c48508d-289f-42de-bb01-1eb76efb7f8a",
        "id": "WtEc09r-kXT8",
        "colab": {
          "base_uri": "https://localhost:8080/",
          "height": 385
        }
      },
      "source": [
        "# Nous avions réduit le nombre de features. Les paramètres qui jouent un rôle important:\n",
        "sns.catplot(x=\"Score Mean\",y=\"features\", data=feature_dataframe, kind=\"bar\" )"
      ],
      "execution_count": 0,
      "outputs": [
        {
          "output_type": "execute_result",
          "data": {
            "text/plain": [
              "<seaborn.axisgrid.FacetGrid at 0x7f52d27fb0f0>"
            ]
          },
          "metadata": {
            "tags": []
          },
          "execution_count": 43
        },
        {
          "output_type": "display_data",
          "data": {
            "image/png": "[encoded data removed]",
            "text/plain": [
              "<Figure size 360x360 with 1 Axes>"
            ]
          },
          "metadata": {
            "tags": []
          }
        }
      ]
    },
    {
      "cell_type": "markdown",
      "metadata": {
        "id": "aTPVbgNyFuWa",
        "colab_type": "text"
      },
      "source": [
        "Second-Level Predictions from the First-level Output"
      ]
    },
    {
      "cell_type": "code",
      "metadata": {
        "id": "vsoJwrMYFvmK",
        "colab_type": "code",
        "outputId": "87cf8a3e-31f3-457a-b708-1c3544700377",
        "colab": {
          "base_uri": "https://localhost:8080/",
          "height": 191
        }
      },
      "source": [
        "base_predictions_train = pd.DataFrame( {'RandomForest': rf_train_pred[:,1],\n",
        "                                         'XGBoost': xgb_train_pred[:,1]})\n",
        "base_predictions_train.head()"
      ],
      "execution_count": 0,
      "outputs": [
        {
          "output_type": "execute_result",
          "data": {
            "text/html": [
              "<div>\n",
              "<style scoped>\n",
              "    .dataframe tbody tr th:only-of-type {\n",
              "        vertical-align: middle;\n",
              "    }\n",
              "\n",
              "    .dataframe tbody tr th {\n",
              "        vertical-align: top;\n",
              "    }\n",
              "\n",
              "    .dataframe thead th {\n",
              "        text-align: right;\n",
              "    }\n",
              "</style>\n",
              "<table border=\"1\" class=\"dataframe\">\n",
              "  <thead>\n",
              "    <tr style=\"text-align: right;\">\n",
              "      <th></th>\n",
              "      <th>RandomForest</th>\n",
              "      <th>XGBoost</th>\n",
              "    </tr>\n",
              "  </thead>\n",
              "  <tbody>\n",
              "    <tr>\n",
              "      <th>0</th>\n",
              "      <td>0.042745</td>\n",
              "      <td>0.044134</td>\n",
              "    </tr>\n",
              "    <tr>\n",
              "      <th>1</th>\n",
              "      <td>0.045408</td>\n",
              "      <td>0.042547</td>\n",
              "    </tr>\n",
              "    <tr>\n",
              "      <th>2</th>\n",
              "      <td>0.045031</td>\n",
              "      <td>0.050692</td>\n",
              "    </tr>\n",
              "    <tr>\n",
              "      <th>3</th>\n",
              "      <td>0.042670</td>\n",
              "      <td>0.042920</td>\n",
              "    </tr>\n",
              "    <tr>\n",
              "      <th>4</th>\n",
              "      <td>0.043161</td>\n",
              "      <td>0.037855</td>\n",
              "    </tr>\n",
              "  </tbody>\n",
              "</table>\n",
              "</div>"
            ],
            "text/plain": [
              "   RandomForest   XGBoost\n",
              "0      0.042745  0.044134\n",
              "1      0.045408  0.042547\n",
              "2      0.045031  0.050692\n",
              "3      0.042670  0.042920\n",
              "4      0.043161  0.037855"
            ]
          },
          "metadata": {
            "tags": []
          },
          "execution_count": 44
        }
      ]
    },
    {
      "cell_type": "code",
      "metadata": {
        "id": "K-7RScRqGRMp",
        "colab_type": "code",
        "outputId": "38c2eeaf-b947-4477-f1e9-f3612d0e4e37",
        "colab": {
          "base_uri": "https://localhost:8080/",
          "height": 191
        }
      },
      "source": [
        "base_predictions_test = pd.DataFrame( {'RandomForest': rf_test_pred[:,1],\n",
        "                                        'XGBoost': xgb_test_pred[:,1]})\n",
        "base_predictions_test.head()"
      ],
      "execution_count": 0,
      "outputs": [
        {
          "output_type": "execute_result",
          "data": {
            "text/html": [
              "<div>\n",
              "<style scoped>\n",
              "    .dataframe tbody tr th:only-of-type {\n",
              "        vertical-align: middle;\n",
              "    }\n",
              "\n",
              "    .dataframe tbody tr th {\n",
              "        vertical-align: top;\n",
              "    }\n",
              "\n",
              "    .dataframe thead th {\n",
              "        text-align: right;\n",
              "    }\n",
              "</style>\n",
              "<table border=\"1\" class=\"dataframe\">\n",
              "  <thead>\n",
              "    <tr style=\"text-align: right;\">\n",
              "      <th></th>\n",
              "      <th>RandomForest</th>\n",
              "      <th>XGBoost</th>\n",
              "    </tr>\n",
              "  </thead>\n",
              "  <tbody>\n",
              "    <tr>\n",
              "      <th>0</th>\n",
              "      <td>0.042672</td>\n",
              "      <td>0.038196</td>\n",
              "    </tr>\n",
              "    <tr>\n",
              "      <th>1</th>\n",
              "      <td>0.043259</td>\n",
              "      <td>0.055001</td>\n",
              "    </tr>\n",
              "    <tr>\n",
              "      <th>2</th>\n",
              "      <td>0.980159</td>\n",
              "      <td>0.983264</td>\n",
              "    </tr>\n",
              "    <tr>\n",
              "      <th>3</th>\n",
              "      <td>0.045212</td>\n",
              "      <td>0.065286</td>\n",
              "    </tr>\n",
              "    <tr>\n",
              "      <th>4</th>\n",
              "      <td>0.045784</td>\n",
              "      <td>0.054238</td>\n",
              "    </tr>\n",
              "  </tbody>\n",
              "</table>\n",
              "</div>"
            ],
            "text/plain": [
              "   RandomForest   XGBoost\n",
              "0      0.042672  0.038196\n",
              "1      0.043259  0.055001\n",
              "2      0.980159  0.983264\n",
              "3      0.045212  0.065286\n",
              "4      0.045784  0.054238"
            ]
          },
          "metadata": {
            "tags": []
          },
          "execution_count": 45
        }
      ]
    },
    {
      "cell_type": "markdown",
      "metadata": {
        "id": "jr2hhOGsGeU6",
        "colab_type": "text"
      },
      "source": [
        "Second level learning model via LogisticRegressor\n",
        "\n"
      ]
    },
    {
      "cell_type": "code",
      "metadata": {
        "id": "fEF1JIUZAalC",
        "colab_type": "code",
        "colab": {}
      },
      "source": [
        "from sklearn.linear_model import LogisticRegression as LR\n",
        "lr = LR(class_weight=\"balanced\")\n",
        "lr.fit(base_predictions_train, y_train2)\n",
        "#prédiction pour les valeurs de base_predictions_test\n",
        "predictions = lr.predict(base_predictions_test)\n",
        "\n",
        "#Evaluation du modèle\n",
        "print(\"score train: {:.3f}\" .format(LR.score(base_predictions_train, y_train2)))\n",
        "print(\"score test : {:.3f}\" .format(LR.score(base_predictions_test, y_test)))"
      ],
      "execution_count": 0,
      "outputs": []
    },
    {
      "cell_type": "code",
      "metadata": {
        "id": "h3xCJ5vSG5-F",
        "colab_type": "code",
        "outputId": "759495cc-f2f3-4993-cb37-2c9b72500744",
        "colab": {
          "base_uri": "https://localhost:8080/",
          "height": 50
        }
      },
      "source": [
        "#Evaluation du modèle de base\n",
        "print(\"score train: \", rf.score(X_train2_fin,y_train2_fin))\n",
        "print(\"score test : \", rf.score(X_test_fin,y_test))"
      ],
      "execution_count": 0,
      "outputs": [
        {
          "output_type": "stream",
          "text": [
            "score train:  0.9584084705103814\n",
            "score test :  0.9579459352149026\n"
          ],
          "name": "stdout"
        }
      ]
    },
    {
      "cell_type": "code",
      "metadata": {
        "colab_type": "code",
        "outputId": "0d662de0-b05d-4ae8-98bf-be58d27ba7c6",
        "id": "0kovnrPcETKI",
        "colab": {
          "base_uri": "https://localhost:8080/",
          "height": 281
        }
      },
      "source": [
        "#Matrice de confusion\n",
        "from sklearn.metrics import confusion_matrix\n",
        "cm3=confusion_matrix(y_test, predictions)\n",
        "sns.heatmap(cm3, annot=True,fmt=\"d\")"
      ],
      "execution_count": 0,
      "outputs": [
        {
          "output_type": "execute_result",
          "data": {
            "text/plain": [
              "<matplotlib.axes._subplots.AxesSubplot at 0x7f52d274b198>"
            ]
          },
          "metadata": {
            "tags": []
          },
          "execution_count": 49
        },
        {
          "output_type": "display_data",
          "data": {
            "image/png": "[encoded data removed]",
            "text/plain": [
              "<Figure size 432x288 with 2 Axes>"
            ]
          },
          "metadata": {
            "tags": []
          }
        }
      ]
    },
    {
      "cell_type": "code",
      "metadata": {
        "colab_type": "code",
        "outputId": "6ae1765b-59d5-45e2-9499-d8821ea19f73",
        "id": "OSHN3PTQETKP",
        "colab": {
          "base_uri": "https://localhost:8080/",
          "height": 281
        }
      },
      "source": [
        "cm4 = confusion_matrix(y_test, predictions, normalize=\"true\")\n",
        "sns.heatmap(cm4, annot=True, square=True, fmt=\".2f\")"
      ],
      "execution_count": 0,
      "outputs": [
        {
          "output_type": "execute_result",
          "data": {
            "text/plain": [
              "<matplotlib.axes._subplots.AxesSubplot at 0x7f52d2afa6a0>"
            ]
          },
          "metadata": {
            "tags": []
          },
          "execution_count": 50
        },
        {
          "output_type": "display_data",
          "data": {
            "image/png": "[encoded data removed]",
            "text/plain": [
              "<Figure size 432x288 with 2 Axes>"
            ]
          },
          "metadata": {
            "tags": []
          }
        }
      ]
    },
    {
      "cell_type": "code",
      "metadata": {
        "colab_type": "code",
        "outputId": "83255803-4a07-4f81-a40f-4a1ae39cc43f",
        "id": "MPy660ZBETKX",
        "colab": {
          "base_uri": "https://localhost:8080/",
          "height": 163
        }
      },
      "source": [
        "from sklearn.metrics import classification_report\n",
        "print(classification_report(y_true=y_test, y_pred=predictions))"
      ],
      "execution_count": 0,
      "outputs": [
        {
          "output_type": "stream",
          "text": [
            "              precision    recall  f1-score   support\n",
            "\n",
            "           0       0.96      1.00      0.98     27354\n",
            "           1       0.97      0.57      0.72      2869\n",
            "\n",
            "    accuracy                           0.96     30223\n",
            "   macro avg       0.96      0.79      0.85     30223\n",
            "weighted avg       0.96      0.96      0.95     30223\n",
            "\n"
          ],
          "name": "stdout"
        }
      ]
    }
  ]
}